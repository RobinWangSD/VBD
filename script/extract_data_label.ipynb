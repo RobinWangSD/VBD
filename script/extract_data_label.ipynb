{
 "cells": [
  {
   "cell_type": "code",
   "execution_count": 1,
   "metadata": {},
   "outputs": [
    {
     "name": "stderr",
     "output_type": "stream",
     "text": [
      "/opt/conda/envs/vbd/lib/python3.10/site-packages/tqdm/auto.py:21: TqdmWarning: IProgress not found. Please update jupyter and ipywidgets. See https://ipywidgets.readthedocs.io/en/stable/user_install.html\n",
      "  from .autonotebook import tqdm as notebook_tqdm\n"
     ]
    }
   ],
   "source": [
    "import os\n",
    "os.environ['TF_CPP_MIN_LOG_LEVEL'] = '3'\n",
    "# disable GPU\n",
    "os.environ[\"CUDA_VISIBLE_DEVICES\"] = \"-1\"\n",
    "\n",
    "import tensorflow as tf\n",
    "# set tf to cpu only\n",
    "tf.config.set_visible_devices([], 'GPU')\n",
    "import jax\n",
    "jax.config.update('jax_platform_name', 'cpu')\n",
    "\n",
    "import glob\n",
    "import argparse\n",
    "import pickle\n",
    "from vbd.data.data_utils import *\n",
    "from tqdm import tqdm\n",
    "from tqdm.contrib.concurrent import process_map  # or thread_map\n",
    "\n",
    "from waymax import dataloader\n",
    "from waymax.config import DataFormat\n",
    "import functools"
   ]
  },
  {
   "cell_type": "code",
   "execution_count": 2,
   "metadata": {},
   "outputs": [],
   "source": [
    "dataset_type = \"training\"\n",
    "data_dir = f\"/robin-west/womd_processed/vbd/{dataset_type}/processed/*.pkl\"\n",
    "data_file_list = glob.glob(data_dir)"
   ]
  },
  {
   "cell_type": "code",
   "execution_count": 3,
   "metadata": {},
   "outputs": [],
   "source": [
    "def wrap_angle(angle):\n",
    "    \"\"\"\n",
    "    Wrap the angle to [-pi, pi].\n",
    "\n",
    "    Args:\n",
    "        angle (torch.Tensor): Angle tensor.\n",
    "\n",
    "    Returns:\n",
    "        torch.Tensor: Wrapped angle.\n",
    "\n",
    "    \"\"\"\n",
    "    # return torch.atan2(torch.sin(angle), torch.cos(angle))\n",
    "    return (angle + torch.pi) % (2 * torch.pi) - torch.pi\n",
    "\n",
    "    \n",
    "def extract_high_level_motion_action(heading, acceleration):\n",
    "    if acceleration > 1: \n",
    "        speed_action = 1 # acceleration\n",
    "    elif acceleration < -1:\n",
    "        speed_action = 2 # deceleration\n",
    "    else:\n",
    "        speed_action = 3 # keep speed\n",
    "    \n",
    "    heading = np.rad2deg(heading)\n",
    "    if np.abs(heading) < 2.4:\n",
    "        steering_action = 0 # go straight\n",
    "    elif np.abs(heading) < 26.4: \n",
    "        if heading > 0 :\n",
    "            steering_action = 1 # turn left\n",
    "        else: \n",
    "            steering_action = 2 # turn right\n",
    "    else:\n",
    "        if heading > 0 :\n",
    "            steering_action = 3 # left u turn\n",
    "        else: \n",
    "            steering_action = 2 # turn right\n",
    "    \n",
    "    return np.array([speed_action, steering_action])\n",
    "\n",
    "\n",
    "def extract_patch_action(speed_patch, heading_patch):\n",
    "    ## no need for sdc\n",
    "    # first_valid_ts = -1\n",
    "    # last_valid_ts = -1\n",
    "    # for ts in range(valid_patch.shape[0]):\n",
    "    #     if first_valid_ts==-1 and valid_patch[ts]:\n",
    "    #         first_valid_ts = ts\n",
    "    #     elif first_valid_ts!=-1 and last_valid_ts==-1:\n",
    "    #         if not valid_patch[ts]:\n",
    "    #             last_valid_ts = ts - 1\n",
    "    #         elif ts == valid_patch.shape[0]-1:\n",
    "    #             last_valid_ts = ts\n",
    "    # if first_valid_ts==-1 and last_valid_ts==-1 or first_valid_ts==last_valid_ts:\n",
    "    #     return np.array([-1, -1], dtype=np.float32)\n",
    "    assert len(speed_patch) == len(heading_patch)\n",
    "    speed_diff = 10 * (speed_patch[-1] - speed_patch[0]) / len(speed_patch)\n",
    "    heading_diff = 10 * (heading_patch[-1] - heading_patch[0]) / len(heading_patch)\n",
    "    patch_action = extract_high_level_motion_action(heading_diff, speed_diff)\n",
    "    return patch_action\n",
    "\n",
    "\n",
    "def extract_patches_action(speed, heading, sample_rate=10):\n",
    "    high_level_action = []\n",
    "    for patch_id in range((speed.shape[0]) // sample_rate):\n",
    "        speed_patch = speed[patch_id*sample_rate:(patch_id+1)*sample_rate]\n",
    "        heading_patch = heading[patch_id*sample_rate:(patch_id+1)*sample_rate]\n",
    "        high_level_action.append(extract_patch_action(speed_patch, heading_patch))\n",
    "    return np.stack(high_level_action, axis=0)"
   ]
  },
  {
   "cell_type": "code",
   "execution_count": 4,
   "metadata": {},
   "outputs": [],
   "source": [
    "def extract_sdc_action(data):\n",
    "    scenario = data['scenario_raw']\n",
    "    sdc_id = np.where(scenario.object_metadata.is_sdc)[0][0]\n",
    "    sdc_id_in_processed = np.where(data[\"agents_id\"]==sdc_id)[0][0]\n",
    "    sdc_future = data[\"agents_future\"][sdc_id_in_processed]\n",
    "    assert sdc_future.shape[0] == 81 and sdc_future.shape[1] == 5, \"sdc future traj shape is wrong\"\n",
    "    vel_xy = sdc_future[:, 3:]\n",
    "    speed = np.linalg.norm(vel_xy, axis=-1)\n",
    "    heading = sdc_future[:, 2]\n",
    "    sdc_future_actions_4s = extract_patches_action(speed, heading, sample_rate=40)\n",
    "    sdc_future_actions_1s = extract_patches_action(speed, heading, sample_rate=10)\n",
    "    return sdc_id, sdc_future_actions_4s, sdc_future_actions_1s"
   ]
  },
  {
   "cell_type": "code",
   "execution_count": 5,
   "metadata": {},
   "outputs": [
    {
     "name": "stderr",
     "output_type": "stream",
     "text": [
      "  0%|          | 0/486995 [00:00<?, ?it/s]An NVIDIA GPU may be present on this machine, but a CUDA-enabled jaxlib is not installed. Falling back to cpu.\n",
      "  0%|          | 126/486995 [00:29<31:43:04,  4.26it/s]\n"
     ]
    },
    {
     "ename": "KeyboardInterrupt",
     "evalue": "",
     "output_type": "error",
     "traceback": [
      "\u001b[0;31m---------------------------------------------------------------------------\u001b[0m",
      "\u001b[0;31mKeyboardInterrupt\u001b[0m                         Traceback (most recent call last)",
      "\u001b[1;32m/robin-west/VBD/script/extract_data_label.ipynb Cell 5\u001b[0m line \u001b[0;36m5\n\u001b[1;32m      <a href='vscode-notebook-cell://k8s-container%2B7b22636f6e74657874223a226e617574696c7573222c22706f646e616d65223a227662642d696e666572656e63652d333039302d687474702d356263636435396663662d7262766635222c226e616d657370616365223a22636f67726f62222c226e616d65223a22687474702d736572766572222c22696d616765223a226769746c61622d72656769737472792e6e72702d6e617574696c75732e696f2f726f62696e77616e672f7662643a6c696768742d776569676874227d/robin-west/VBD/script/extract_data_label.ipynb#W4sdnNjb2RlLXJlbW90ZQ%3D%3D?line=2'>3</a>\u001b[0m scenario_id \u001b[39m=\u001b[39m data_file_path\u001b[39m.\u001b[39msplit(\u001b[39m\"\u001b[39m\u001b[39m/\u001b[39m\u001b[39m\"\u001b[39m)[\u001b[39m-\u001b[39m\u001b[39m1\u001b[39m]\u001b[39m.\u001b[39mrstrip(\u001b[39m\"\u001b[39m\u001b[39m.pkl\u001b[39m\u001b[39m\"\u001b[39m)\u001b[39m.\u001b[39msplit(\u001b[39m\"\u001b[39m\u001b[39m_\u001b[39m\u001b[39m\"\u001b[39m)[\u001b[39m-\u001b[39m\u001b[39m1\u001b[39m]\n\u001b[1;32m      <a href='vscode-notebook-cell://k8s-container%2B7b22636f6e74657874223a226e617574696c7573222c22706f646e616d65223a227662642d696e666572656e63652d333039302d687474702d356263636435396663662d7262766635222c226e616d657370616365223a22636f67726f62222c226e616d65223a22687474702d736572766572222c22696d616765223a226769746c61622d72656769737472792e6e72702d6e617574696c75732e696f2f726f62696e77616e672f7662643a6c696768742d776569676874227d/robin-west/VBD/script/extract_data_label.ipynb#W4sdnNjb2RlLXJlbW90ZQ%3D%3D?line=3'>4</a>\u001b[0m \u001b[39mwith\u001b[39;00m \u001b[39mopen\u001b[39m(data_file_path, \u001b[39m\"\u001b[39m\u001b[39mrb\u001b[39m\u001b[39m\"\u001b[39m) \u001b[39mas\u001b[39;00m data_f:\n\u001b[0;32m----> <a href='vscode-notebook-cell://k8s-container%2B7b22636f6e74657874223a226e617574696c7573222c22706f646e616d65223a227662642d696e666572656e63652d333039302d687474702d356263636435396663662d7262766635222c226e616d657370616365223a22636f67726f62222c226e616d65223a22687474702d736572766572222c22696d616765223a226769746c61622d72656769737472792e6e72702d6e617574696c75732e696f2f726f62696e77616e672f7662643a6c696768742d776569676874227d/robin-west/VBD/script/extract_data_label.ipynb#W4sdnNjb2RlLXJlbW90ZQ%3D%3D?line=4'>5</a>\u001b[0m     data \u001b[39m=\u001b[39m pickle\u001b[39m.\u001b[39;49mload(data_f)\n\u001b[1;32m      <a href='vscode-notebook-cell://k8s-container%2B7b22636f6e74657874223a226e617574696c7573222c22706f646e616d65223a227662642d696e666572656e63652d333039302d687474702d356263636435396663662d7262766635222c226e616d657370616365223a22636f67726f62222c226e616d65223a22687474702d736572766572222c22696d616765223a226769746c61622d72656769737472792e6e72702d6e617574696c75732e696f2f726f62696e77616e672f7662643a6c696768742d776569676874227d/robin-west/VBD/script/extract_data_label.ipynb#W4sdnNjb2RlLXJlbW90ZQ%3D%3D?line=5'>6</a>\u001b[0m sdc_id, sdc_future_actions_4s, sdc_future_actions_1s \u001b[39m=\u001b[39m extract_sdc_action(data)\n\u001b[1;32m      <a href='vscode-notebook-cell://k8s-container%2B7b22636f6e74657874223a226e617574696c7573222c22706f646e616d65223a227662642d696e666572656e63652d333039302d687474702d356263636435396663662d7262766635222c226e616d657370616365223a22636f67726f62222c226e616d65223a22687474702d736572766572222c22696d616765223a226769746c61622d72656769737472792e6e72702d6e617574696c75732e696f2f726f62696e77616e672f7662643a6c696768742d776569676874227d/robin-west/VBD/script/extract_data_label.ipynb#W4sdnNjb2RlLXJlbW90ZQ%3D%3D?line=6'>7</a>\u001b[0m action_labels[scenario_id] \u001b[39m=\u001b[39m {\n\u001b[1;32m      <a href='vscode-notebook-cell://k8s-container%2B7b22636f6e74657874223a226e617574696c7573222c22706f646e616d65223a227662642d696e666572656e63652d333039302d687474702d356263636435396663662d7262766635222c226e616d657370616365223a22636f67726f62222c226e616d65223a22687474702d736572766572222c22696d616765223a226769746c61622d72656769737472792e6e72702d6e617574696c75732e696f2f726f62696e77616e672f7662643a6c696768742d776569676874227d/robin-west/VBD/script/extract_data_label.ipynb#W4sdnNjb2RlLXJlbW90ZQ%3D%3D?line=7'>8</a>\u001b[0m     \u001b[39m'\u001b[39m\u001b[39msdc_id\u001b[39m\u001b[39m'\u001b[39m: sdc_id,\n\u001b[1;32m      <a href='vscode-notebook-cell://k8s-container%2B7b22636f6e74657874223a226e617574696c7573222c22706f646e616d65223a227662642d696e666572656e63652d333039302d687474702d356263636435396663662d7262766635222c226e616d657370616365223a22636f67726f62222c226e616d65223a22687474702d736572766572222c22696d616765223a226769746c61622d72656769737472792e6e72702d6e617574696c75732e696f2f726f62696e77616e672f7662643a6c696768742d776569676874227d/robin-west/VBD/script/extract_data_label.ipynb#W4sdnNjb2RlLXJlbW90ZQ%3D%3D?line=8'>9</a>\u001b[0m     \u001b[39m'\u001b[39m\u001b[39m1s_action\u001b[39m\u001b[39m'\u001b[39m: sdc_future_actions_1s,\n\u001b[1;32m     <a href='vscode-notebook-cell://k8s-container%2B7b22636f6e74657874223a226e617574696c7573222c22706f646e616d65223a227662642d696e666572656e63652d333039302d687474702d356263636435396663662d7262766635222c226e616d657370616365223a22636f67726f62222c226e616d65223a22687474702d736572766572222c22696d616765223a226769746c61622d72656769737472792e6e72702d6e617574696c75732e696f2f726f62696e77616e672f7662643a6c696768742d776569676874227d/robin-west/VBD/script/extract_data_label.ipynb#W4sdnNjb2RlLXJlbW90ZQ%3D%3D?line=9'>10</a>\u001b[0m     \u001b[39m'\u001b[39m\u001b[39m4s_action\u001b[39m\u001b[39m'\u001b[39m: sdc_future_actions_4s,\n\u001b[1;32m     <a href='vscode-notebook-cell://k8s-container%2B7b22636f6e74657874223a226e617574696c7573222c22706f646e616d65223a227662642d696e666572656e63652d333039302d687474702d356263636435396663662d7262766635222c226e616d657370616365223a22636f67726f62222c226e616d65223a22687474702d736572766572222c22696d616765223a226769746c61622d72656769737472792e6e72702d6e617574696c75732e696f2f726f62696e77616e672f7662643a6c696768742d776569676874227d/robin-west/VBD/script/extract_data_label.ipynb#W4sdnNjb2RlLXJlbW90ZQ%3D%3D?line=10'>11</a>\u001b[0m }\n",
      "File \u001b[0;32m/opt/conda/envs/vbd/lib/python3.10/site-packages/jax/_src/array.py:115\u001b[0m, in \u001b[0;36m_reconstruct_array\u001b[0;34m(fun, args, arr_state, aval_state)\u001b[0m\n\u001b[1;32m    110\u001b[0m   \u001b[39m@property\u001b[39m\n\u001b[1;32m    111\u001b[0m   \u001b[39mdef\u001b[39;00m \u001b[39mdata\u001b[39m(\u001b[39mself\u001b[39m):\n\u001b[1;32m    112\u001b[0m     \u001b[39mreturn\u001b[39;00m \u001b[39mself\u001b[39m\u001b[39m.\u001b[39m_data\n\u001b[0;32m--> 115\u001b[0m \u001b[39mdef\u001b[39;00m \u001b[39m_reconstruct_array\u001b[39m(fun, args, arr_state, aval_state):\n\u001b[1;32m    116\u001b[0m \u001b[39m  \u001b[39m\u001b[39m\"\"\"Method to reconstruct a device array from a serialized state.\"\"\"\u001b[39;00m\n\u001b[1;32m    117\u001b[0m   np_value \u001b[39m=\u001b[39m fun(\u001b[39m*\u001b[39margs)\n",
      "\u001b[0;31mKeyboardInterrupt\u001b[0m: "
     ]
    }
   ],
   "source": [
    "action_labels = dict() \n",
    "for data_file_path in tqdm(data_file_list):\n",
    "    scenario_id = data_file_path.split(\"/\")[-1].rstrip(\".pkl\").split(\"_\")[-1]\n",
    "    with open(data_file_path, \"rb\") as data_f:\n",
    "        data = pickle.load(data_f)\n",
    "    sdc_id, sdc_future_actions_4s, sdc_future_actions_1s = extract_sdc_action(data)\n",
    "    action_labels[scenario_id] = {\n",
    "        'sdc_id': sdc_id,\n",
    "        '1s_action': sdc_future_actions_1s,\n",
    "        '4s_action': sdc_future_actions_4s,\n",
    "    }\n",
    "with open(f\"/robin-west/womd_processed/vbd/{dataset_type}/action_labels.pkl\", \"wb\") as action_labels_f:\n",
    "    pickle.dump(action_labels, action_labels_f)"
   ]
  },
  {
   "cell_type": "code",
   "execution_count": 3,
   "metadata": {},
   "outputs": [
    {
     "data": {
      "text/plain": [
       "486995"
      ]
     },
     "execution_count": 3,
     "metadata": {},
     "output_type": "execute_result"
    }
   ],
   "source": [
    "len(data_file_list)"
   ]
  },
  {
   "cell_type": "code",
   "execution_count": 4,
   "metadata": {},
   "outputs": [],
   "source": [
    "num_buckets = 100\n",
    "buckets = {i: [] for i in range(num_buckets)}\n",
    "\n",
    "for idx, file_path in enumerate(data_file_list):\n",
    "    bucket_index = idx % num_buckets\n",
    "    buckets[bucket_index].append(file_path)"
   ]
  },
  {
   "cell_type": "code",
   "execution_count": 5,
   "metadata": {},
   "outputs": [
    {
     "name": "stdout",
     "output_type": "stream",
     "text": [
      "0\n",
      "4870\n",
      "1\n",
      "4870\n",
      "2\n",
      "4870\n",
      "3\n",
      "4870\n",
      "4\n",
      "4870\n",
      "5\n",
      "4870\n",
      "6\n",
      "4870\n",
      "7\n",
      "4870\n",
      "8\n",
      "4870\n",
      "9\n",
      "4870\n",
      "10\n",
      "4870\n",
      "11\n",
      "4870\n",
      "12\n",
      "4870\n",
      "13\n",
      "4870\n",
      "14\n",
      "4870\n",
      "15\n",
      "4870\n",
      "16\n",
      "4870\n",
      "17\n",
      "4870\n",
      "18\n",
      "4870\n",
      "19\n",
      "4870\n",
      "20\n",
      "4870\n",
      "21\n",
      "4870\n",
      "22\n",
      "4870\n",
      "23\n",
      "4870\n",
      "24\n",
      "4870\n",
      "25\n",
      "4870\n",
      "26\n",
      "4870\n",
      "27\n",
      "4870\n",
      "28\n",
      "4870\n",
      "29\n",
      "4870\n",
      "30\n",
      "4870\n",
      "31\n",
      "4870\n",
      "32\n",
      "4870\n",
      "33\n",
      "4870\n",
      "34\n",
      "4870\n",
      "35\n",
      "4870\n",
      "36\n",
      "4870\n",
      "37\n",
      "4870\n",
      "38\n",
      "4870\n",
      "39\n",
      "4870\n",
      "40\n",
      "4870\n",
      "41\n",
      "4870\n",
      "42\n",
      "4870\n",
      "43\n",
      "4870\n",
      "44\n",
      "4870\n",
      "45\n",
      "4870\n",
      "46\n",
      "4870\n",
      "47\n",
      "4870\n",
      "48\n",
      "4870\n",
      "49\n",
      "4870\n",
      "50\n",
      "4870\n",
      "51\n",
      "4870\n",
      "52\n",
      "4870\n",
      "53\n",
      "4870\n",
      "54\n",
      "4870\n",
      "55\n",
      "4870\n",
      "56\n",
      "4870\n",
      "57\n",
      "4870\n",
      "58\n",
      "4870\n",
      "59\n",
      "4870\n",
      "60\n",
      "4870\n",
      "61\n",
      "4870\n",
      "62\n",
      "4870\n",
      "63\n",
      "4870\n",
      "64\n",
      "4870\n",
      "65\n",
      "4870\n",
      "66\n",
      "4870\n",
      "67\n",
      "4870\n",
      "68\n",
      "4870\n",
      "69\n",
      "4870\n",
      "70\n",
      "4870\n",
      "71\n",
      "4870\n",
      "72\n",
      "4870\n",
      "73\n",
      "4870\n",
      "74\n",
      "4870\n",
      "75\n",
      "4870\n",
      "76\n",
      "4870\n",
      "77\n",
      "4870\n",
      "78\n",
      "4870\n",
      "79\n",
      "4870\n",
      "80\n",
      "4870\n",
      "81\n",
      "4870\n",
      "82\n",
      "4870\n",
      "83\n",
      "4870\n",
      "84\n",
      "4870\n",
      "85\n",
      "4870\n",
      "86\n",
      "4870\n",
      "87\n",
      "4870\n",
      "88\n",
      "4870\n",
      "89\n",
      "4870\n",
      "90\n",
      "4870\n",
      "91\n",
      "4870\n",
      "92\n",
      "4870\n",
      "93\n",
      "4870\n",
      "94\n",
      "4870\n",
      "95\n",
      "4869\n",
      "96\n",
      "4869\n",
      "97\n",
      "4869\n",
      "98\n",
      "4869\n",
      "99\n",
      "4869\n"
     ]
    }
   ],
   "source": [
    "for k in buckets.keys():\n",
    "    print(k)\n",
    "    print(len(buckets[k]))"
   ]
  },
  {
   "cell_type": "code",
   "execution_count": 18,
   "metadata": {},
   "outputs": [],
   "source": [
    "with open(\"/robin-west/womd_processed/vbd/validation/action_labels/action_label_arxiv/action_labels.pkl\", 'rb') as f:\n",
    "    data = pickle.load(f)"
   ]
  },
  {
   "cell_type": "code",
   "execution_count": 20,
   "metadata": {},
   "outputs": [
    {
     "name": "stdout",
     "output_type": "stream",
     "text": [
      "1\n"
     ]
    }
   ],
   "source": [
    "print(len(data))"
   ]
  },
  {
   "cell_type": "code",
   "execution_count": 6,
   "metadata": {},
   "outputs": [],
   "source": [
    "with open(f\"/robin-west/VBD/script/{dataset_type}_file_buckets.pkl\", \"wb\") as buckets_f:\n",
    "    pickle.dump(buckets, buckets_f)"
   ]
  },
  {
   "cell_type": "code",
   "execution_count": 10,
   "metadata": {},
   "outputs": [],
   "source": [
    "# merge buckets\n",
    "dataset_type = \"training\"\n",
    "bucket_dir = f\"/robin-west/womd_processed/vbd/{dataset_type}/action_labels/action_labels_bucket_*.pkl\"\n",
    "bucket_file_list = glob.glob(bucket_dir)\n",
    "merged_action_labels_path = f\"/robin-west/womd_processed/vbd/{dataset_type}/action_labels.pkl\""
   ]
  },
  {
   "cell_type": "code",
   "execution_count": 11,
   "metadata": {},
   "outputs": [
    {
     "name": "stdout",
     "output_type": "stream",
     "text": [
      "100\n"
     ]
    }
   ],
   "source": [
    "print(len(bucket_file_list))"
   ]
  },
  {
   "cell_type": "code",
   "execution_count": 13,
   "metadata": {},
   "outputs": [],
   "source": [
    "merged_action_labels = dict()\n",
    "for bucket_file_path in bucket_file_list:\n",
    "    with open(bucket_file_path, \"rb\") as bucket_f:\n",
    "        bucket_action_labels = pickle.load(bucket_f)\n",
    "    merged_action_labels.update(bucket_action_labels)"
   ]
  },
  {
   "cell_type": "code",
   "execution_count": 14,
   "metadata": {},
   "outputs": [],
   "source": [
    "with open(merged_action_labels_path, \"wb\") as merged_action_labels_f:\n",
    "    pickle.dump(merged_action_labels, merged_action_labels_f)"
   ]
  },
  {
   "cell_type": "code",
   "execution_count": 15,
   "metadata": {},
   "outputs": [
    {
     "data": {
      "text/plain": [
       "486995"
      ]
     },
     "execution_count": 15,
     "metadata": {},
     "output_type": "execute_result"
    }
   ],
   "source": [
    "len(merged_action_labels.values())"
   ]
  },
  {
   "cell_type": "code",
   "execution_count": null,
   "metadata": {},
   "outputs": [],
   "source": []
  },
  {
   "cell_type": "code",
   "execution_count": 21,
   "metadata": {},
   "outputs": [],
   "source": [
    "# dataset split\n",
    "dataset_type = \"training\"\n",
    "merged_action_labels_path = f\"/robin-west/womd_processed/vbd/{dataset_type}/action_labels.pkl\"\n",
    "with open(merged_action_labels_path, \"rb\") as merged_action_labels_f:\n",
    "    merged_action_labels = pickle.load(merged_action_labels_f)\n",
    "\n",
    "# data_dir = f\"/robin-west/womd_processed/vbd/{dataset_type}/processed/*.pkl\"\n",
    "# data_file_list = glob.glob(data_dir)\n",
    "# existing_scenario_list = [data_file_path.split(\"/\")[-1].rstrip(\".pkl\").split(\"_\")[-1] for data_file_path in data_file_list]"
   ]
  },
  {
   "cell_type": "code",
   "execution_count": 22,
   "metadata": {},
   "outputs": [],
   "source": [
    "from collections import defaultdict\n",
    "action_to_scenario_id = defaultdict(list)\n",
    "for scenario_id in merged_action_labels.keys():\n",
    "    action_label = merged_action_labels[scenario_id][\"action_label\"]\n",
    "    action_to_scenario_id[action_label].append(scenario_id)"
   ]
  },
  {
   "cell_type": "code",
   "execution_count": 23,
   "metadata": {},
   "outputs": [
    {
     "name": "stdout",
     "output_type": "stream",
     "text": [
      "0:127324\n",
      "1:255146\n",
      "2:12404\n",
      "3:11920\n",
      "4:67\n",
      "5:23429\n",
      "6:1869\n",
      "7:54836\n"
     ]
    }
   ],
   "source": [
    "for ats_key in sorted(list(action_to_scenario_id.keys())):\n",
    "    print(f\"{ats_key}:{len(action_to_scenario_id[ats_key])}\")"
   ]
  },
  {
   "cell_type": "code",
   "execution_count": 12,
   "metadata": {},
   "outputs": [
    {
     "name": "stdout",
     "output_type": "stream",
     "text": [
      "(1, 0):300\n",
      "(1, 1):300\n",
      "(1, 2):300\n",
      "(1, 3):7\n",
      "(2, 0):300\n",
      "(2, 1):54\n",
      "(2, 2):56\n",
      "(3, 0):300\n",
      "(3, 1):300\n",
      "(3, 2):300\n",
      "(3, 3):92\n"
     ]
    }
   ],
   "source": [
    "num_scenarios_per_action_label = 300\n",
    "\n",
    "import random\n",
    "def shuffle_in_place(my_list):\n",
    "    random.shuffle(my_list)  # Shuffles the list in place\n",
    "    return my_list\n",
    "\n",
    "# get a list of of metadata\n",
    "action_to_scenario_id_subset = {\n",
    "    ats_key: shuffle_in_place(action_to_scenario_id[ats_key])[:num_scenarios_per_action_label] \n",
    "    for ats_key in action_to_scenario_id.keys()\n",
    "}\n",
    "for ats_key in sorted(list(action_to_scenario_id_subset.keys())):\n",
    "    print(f\"{ats_key}:{len(action_to_scenario_id_subset[ats_key])}\")\n"
   ]
  },
  {
   "cell_type": "code",
   "execution_count": 13,
   "metadata": {},
   "outputs": [
    {
     "name": "stdout",
     "output_type": "stream",
     "text": [
      "2309\n",
      "{}\n"
     ]
    }
   ],
   "source": [
    "scenario_id_subset_list = [scenario_id for ats_key in action_to_scenario_id_subset.keys() for scenario_id in action_to_scenario_id_subset[ats_key]]\n",
    "print(len(scenario_id_subset_list))\n",
    "\n",
    "# check duplicates\n",
    "from collections import defaultdict\n",
    "\n",
    "def get_duplicate_indices(my_list):\n",
    "    positions = defaultdict(list)\n",
    "    \n",
    "    # Store the indices of each element\n",
    "    for index, element in enumerate(my_list):\n",
    "        positions[element].append(index)\n",
    "    \n",
    "    # Keep only those with more than one occurrence\n",
    "    duplicates_with_indices = {item: idxs for item, idxs in positions.items() if len(idxs) > 1}\n",
    "    return duplicates_with_indices\n",
    "dup_indices = get_duplicate_indices(scenario_id_subset_list)\n",
    "print(dup_indices) # should be empty"
   ]
  },
  {
   "cell_type": "code",
   "execution_count": 14,
   "metadata": {},
   "outputs": [],
   "source": [
    "subset_list_path = f\"/robin-west/womd_processed/vbd/{dataset_type}/action_to_scenario_id_subset.pkl\"\n",
    "with open(subset_list_path, \"wb\") as subset_list_f:\n",
    "    pickle.dump(action_to_scenario_id_subset, subset_list_f)"
   ]
  },
  {
   "cell_type": "code",
   "execution_count": 15,
   "metadata": {},
   "outputs": [],
   "source": [
    "merged_action_labels_subset = {\n",
    "    scenario_id: merged_action_labels[scenario_id]\n",
    "    for scenario_id in scenario_id_subset_list\n",
    "}\n",
    "subset_action_labels_path = f\"/robin-west/womd_processed/vbd/{dataset_type}/subset_action_labels.pkl\"\n",
    "with open(subset_action_labels_path, \"wb\") as subset_action_labels_f:\n",
    "    pickle.dump(merged_action_labels_subset, subset_action_labels_f)"
   ]
  },
  {
   "cell_type": "code",
   "execution_count": 15,
   "metadata": {},
   "outputs": [
    {
     "name": "stderr",
     "output_type": "stream",
     "text": [
      "  0%|          | 7/23714 [00:33<31:58:45,  4.86s/it]\n"
     ]
    },
    {
     "ename": "KeyboardInterrupt",
     "evalue": "",
     "output_type": "error",
     "traceback": [
      "\u001b[0;31m---------------------------------------------------------------------------\u001b[0m",
      "\u001b[0;31mKeyboardInterrupt\u001b[0m                         Traceback (most recent call last)",
      "Cell \u001b[0;32mIn[15], line 17\u001b[0m\n\u001b[1;32m     15\u001b[0m     src \u001b[38;5;241m=\u001b[39m \u001b[38;5;124mf\u001b[39m\u001b[38;5;124m\"\u001b[39m\u001b[38;5;124m/robin-west/womd_processed/vbd/\u001b[39m\u001b[38;5;132;01m{\u001b[39;00mdataset_type\u001b[38;5;132;01m}\u001b[39;00m\u001b[38;5;124m/processed/scenario_\u001b[39m\u001b[38;5;132;01m{\u001b[39;00mscenario_id\u001b[38;5;132;01m}\u001b[39;00m\u001b[38;5;124m.pkl\u001b[39m\u001b[38;5;124m\"\u001b[39m\n\u001b[1;32m     16\u001b[0m     dst \u001b[38;5;241m=\u001b[39m \u001b[38;5;124mf\u001b[39m\u001b[38;5;124m\"\u001b[39m\u001b[38;5;124m/robin-west/womd_processed/single_agent_subset_v2/\u001b[39m\u001b[38;5;132;01m{\u001b[39;00mdataset_type\u001b[38;5;132;01m}\u001b[39;00m\u001b[38;5;124m/processed/scenario_\u001b[39m\u001b[38;5;132;01m{\u001b[39;00mscenario_id\u001b[38;5;132;01m}\u001b[39;00m\u001b[38;5;124m.pkl\u001b[39m\u001b[38;5;124m\"\u001b[39m\n\u001b[0;32m---> 17\u001b[0m     \u001b[43msafe_copy\u001b[49m\u001b[43m(\u001b[49m\u001b[43msrc\u001b[49m\u001b[43m,\u001b[49m\u001b[43m \u001b[49m\u001b[43mdst\u001b[49m\u001b[43m)\u001b[49m\n\u001b[1;32m     18\u001b[0m \u001b[38;5;28;01mexcept\u001b[39;00m \u001b[38;5;167;01mFileNotFoundError\u001b[39;00m:\n\u001b[1;32m     19\u001b[0m     action_label \u001b[38;5;241m=\u001b[39m merged_action_labels[scenario_id][\u001b[38;5;124m\"\u001b[39m\u001b[38;5;124m4s_action\u001b[39m\u001b[38;5;124m\"\u001b[39m]\n",
      "Cell \u001b[0;32mIn[15], line 9\u001b[0m, in \u001b[0;36msafe_copy\u001b[0;34m(src, dst)\u001b[0m\n\u001b[1;32m      7\u001b[0m     \u001b[38;5;28mprint\u001b[39m(\u001b[38;5;124mf\u001b[39m\u001b[38;5;124m\"\u001b[39m\u001b[38;5;124mDestination \u001b[39m\u001b[38;5;132;01m{\u001b[39;00mdst\u001b[38;5;132;01m}\u001b[39;00m\u001b[38;5;124m already exists. Aborting.\u001b[39m\u001b[38;5;124m\"\u001b[39m)\n\u001b[1;32m      8\u001b[0m     \u001b[38;5;28;01mreturn\u001b[39;00m\n\u001b[0;32m----> 9\u001b[0m \u001b[43mshutil\u001b[49m\u001b[38;5;241;43m.\u001b[39;49m\u001b[43mcopy2\u001b[49m\u001b[43m(\u001b[49m\u001b[43msrc\u001b[49m\u001b[43m,\u001b[49m\u001b[43m \u001b[49m\u001b[43mdst\u001b[49m\u001b[43m)\u001b[49m\n",
      "File \u001b[0;32m/opt/conda/envs/vbd/lib/python3.10/shutil.py:434\u001b[0m, in \u001b[0;36mcopy2\u001b[0;34m(src, dst, follow_symlinks)\u001b[0m\n\u001b[1;32m    432\u001b[0m \u001b[38;5;28;01mif\u001b[39;00m os\u001b[38;5;241m.\u001b[39mpath\u001b[38;5;241m.\u001b[39misdir(dst):\n\u001b[1;32m    433\u001b[0m     dst \u001b[38;5;241m=\u001b[39m os\u001b[38;5;241m.\u001b[39mpath\u001b[38;5;241m.\u001b[39mjoin(dst, os\u001b[38;5;241m.\u001b[39mpath\u001b[38;5;241m.\u001b[39mbasename(src))\n\u001b[0;32m--> 434\u001b[0m \u001b[43mcopyfile\u001b[49m\u001b[43m(\u001b[49m\u001b[43msrc\u001b[49m\u001b[43m,\u001b[49m\u001b[43m \u001b[49m\u001b[43mdst\u001b[49m\u001b[43m,\u001b[49m\u001b[43m \u001b[49m\u001b[43mfollow_symlinks\u001b[49m\u001b[38;5;241;43m=\u001b[39;49m\u001b[43mfollow_symlinks\u001b[49m\u001b[43m)\u001b[49m\n\u001b[1;32m    435\u001b[0m copystat(src, dst, follow_symlinks\u001b[38;5;241m=\u001b[39mfollow_symlinks)\n\u001b[1;32m    436\u001b[0m \u001b[38;5;28;01mreturn\u001b[39;00m dst\n",
      "File \u001b[0;32m/opt/conda/envs/vbd/lib/python3.10/shutil.py:267\u001b[0m, in \u001b[0;36mcopyfile\u001b[0;34m(src, dst, follow_symlinks)\u001b[0m\n\u001b[1;32m    265\u001b[0m \u001b[38;5;28;01melif\u001b[39;00m _USE_CP_SENDFILE:\n\u001b[1;32m    266\u001b[0m     \u001b[38;5;28;01mtry\u001b[39;00m:\n\u001b[0;32m--> 267\u001b[0m         \u001b[43m_fastcopy_sendfile\u001b[49m\u001b[43m(\u001b[49m\u001b[43mfsrc\u001b[49m\u001b[43m,\u001b[49m\u001b[43m \u001b[49m\u001b[43mfdst\u001b[49m\u001b[43m)\u001b[49m\n\u001b[1;32m    268\u001b[0m         \u001b[38;5;28;01mreturn\u001b[39;00m dst\n\u001b[1;32m    269\u001b[0m     \u001b[38;5;28;01mexcept\u001b[39;00m _GiveupOnFastCopy:\n",
      "File \u001b[0;32m/opt/conda/envs/vbd/lib/python3.10/shutil.py:142\u001b[0m, in \u001b[0;36m_fastcopy_sendfile\u001b[0;34m(fsrc, fdst)\u001b[0m\n\u001b[1;32m    140\u001b[0m \u001b[38;5;28;01mwhile\u001b[39;00m \u001b[38;5;28;01mTrue\u001b[39;00m:\n\u001b[1;32m    141\u001b[0m     \u001b[38;5;28;01mtry\u001b[39;00m:\n\u001b[0;32m--> 142\u001b[0m         sent \u001b[38;5;241m=\u001b[39m \u001b[43mos\u001b[49m\u001b[38;5;241;43m.\u001b[39;49m\u001b[43msendfile\u001b[49m\u001b[43m(\u001b[49m\u001b[43moutfd\u001b[49m\u001b[43m,\u001b[49m\u001b[43m \u001b[49m\u001b[43minfd\u001b[49m\u001b[43m,\u001b[49m\u001b[43m \u001b[49m\u001b[43moffset\u001b[49m\u001b[43m,\u001b[49m\u001b[43m \u001b[49m\u001b[43mblocksize\u001b[49m\u001b[43m)\u001b[49m\n\u001b[1;32m    143\u001b[0m     \u001b[38;5;28;01mexcept\u001b[39;00m \u001b[38;5;167;01mOSError\u001b[39;00m \u001b[38;5;28;01mas\u001b[39;00m err:\n\u001b[1;32m    144\u001b[0m         \u001b[38;5;66;03m# ...in oder to have a more informative exception.\u001b[39;00m\n\u001b[1;32m    145\u001b[0m         err\u001b[38;5;241m.\u001b[39mfilename \u001b[38;5;241m=\u001b[39m fsrc\u001b[38;5;241m.\u001b[39mname\n",
      "\u001b[0;31mKeyboardInterrupt\u001b[0m: "
     ]
    }
   ],
   "source": [
    "# move file \n",
    "import shutil\n",
    "import os\n",
    "\n",
    "def safe_copy(src, dst):\n",
    "    if os.path.exists(dst):\n",
    "        print(f\"Destination {dst} already exists. Aborting.\")\n",
    "        return\n",
    "    shutil.copy2(src, dst)\n",
    "    # print(f\"Moved {src} to {dst}\")\n",
    "\n",
    "missed_file = defaultdict(list)\n",
    "for scenario_id in tqdm(scenario_id_subset_list):\n",
    "    try:\n",
    "        src = f\"/robin-west/womd_processed/vbd/{dataset_type}/processed/scenario_{scenario_id}.pkl\"\n",
    "        dst = f\"/robin-west/womd_processed/single_agent_subset_v2/{dataset_type}/processed/scenario_{scenario_id}.pkl\"\n",
    "        safe_copy(src, dst)\n",
    "    except FileNotFoundError:\n",
    "        action_label = merged_action_labels[scenario_id][\"4s_action\"]\n",
    "        ats_key = (action_label[0,0], action_label[0,1])\n",
    "        missed_file[ats_key].append(scenario_id)"
   ]
  },
  {
   "cell_type": "code",
   "execution_count": 9,
   "metadata": {},
   "outputs": [
    {
     "name": "stdout",
     "output_type": "stream",
     "text": [
      "(3, 0) 25\n"
     ]
    }
   ],
   "source": [
    "for k in missed_file.keys():\n",
    "    print(k, len(missed_file[k]))"
   ]
  },
  {
   "cell_type": "code",
   "execution_count": 9,
   "metadata": {},
   "outputs": [],
   "source": [
    "with open(f\"/robin-west/womd_processed/single_agent_subset/{dataset_type}/processed/action_labels.pkl\", \"wb\") as f:\n",
    "    pickle.dump(merged_action_labels_subset, f)"
   ]
  },
  {
   "cell_type": "code",
   "execution_count": null,
   "metadata": {},
   "outputs": [],
   "source": []
  },
  {
   "cell_type": "code",
   "execution_count": null,
   "metadata": {},
   "outputs": [],
   "source": []
  },
  {
   "cell_type": "code",
   "execution_count": 2,
   "metadata": {},
   "outputs": [],
   "source": [
    "# investigate action labels\n",
    "# 1a0bd6424027a059\n",
    "import pickle\n",
    "with open(\"/robin-west/womd_processed/single_agent_subset/validation/action_labels.pkl\", \"rb\") as action_labels_f:\n",
    "    action_labels = pickle.load(action_labels_f)\n",
    "\n",
    "from collections import defaultdict\n",
    "action_to_scenario_id = defaultdict(list)\n",
    "for scenario_id in action_labels.keys():\n",
    "    action_label = action_labels[scenario_id][\"4s_action\"]\n",
    "    ats_key = (action_label[0,0], action_label[0,1])\n",
    "    action_to_scenario_id[ats_key].append(scenario_id)"
   ]
  },
  {
   "cell_type": "code",
   "execution_count": 4,
   "metadata": {},
   "outputs": [
    {
     "name": "stdout",
     "output_type": "stream",
     "text": [
      "(1, 0) 7ea1371b05066892\n",
      "(1, 1) ec5fd750cfde767c\n",
      "(1, 2) ca1bb3609957057a\n",
      "(1, 3) 888f97beca5cca8f\n",
      "(2, 0) 3bba22c6e511b539\n",
      "(2, 1) af68115f030eb304\n",
      "(2, 2) 3a6f9cabab35542f\n",
      "(2, 3) 38479dfd28740cd0\n",
      "(3, 0) e569f6d6d9c1d67d\n",
      "(3, 1) 3f380493b10424df\n",
      "(3, 2) 876cd6af7c7c749\n",
      "(3, 3) 86b4b920ba9fb858\n"
     ]
    }
   ],
   "source": [
    "for ats_key in sorted(list(action_to_scenario_id.keys())):\n",
    "    print(ats_key, action_to_scenario_id[ats_key][1])"
   ]
  },
  {
   "cell_type": "code",
   "execution_count": null,
   "metadata": {},
   "outputs": [],
   "source": []
  }
 ],
 "metadata": {
  "kernelspec": {
   "display_name": "vbd",
   "language": "python",
   "name": "python3"
  },
  "language_info": {
   "codemirror_mode": {
    "name": "ipython",
    "version": 3
   },
   "file_extension": ".py",
   "mimetype": "text/x-python",
   "name": "python",
   "nbconvert_exporter": "python",
   "pygments_lexer": "ipython3",
   "version": "3.10.14"
  }
 },
 "nbformat": 4,
 "nbformat_minor": 2
}
