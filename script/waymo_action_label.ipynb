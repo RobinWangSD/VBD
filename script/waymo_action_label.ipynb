{
 "cells": [
  {
   "cell_type": "code",
   "execution_count": 1,
   "id": "c8cf8d9d",
   "metadata": {},
   "outputs": [
    {
     "name": "stderr",
     "output_type": "stream",
     "text": [
      "/opt/conda/envs/vbd/lib/python3.10/site-packages/tqdm/auto.py:21: TqdmWarning: IProgress not found. Please update jupyter and ipywidgets. See https://ipywidgets.readthedocs.io/en/stable/user_install.html\n",
      "  from .autonotebook import tqdm as notebook_tqdm\n"
     ]
    }
   ],
   "source": [
    "import os\n",
    "os.environ['TF_CPP_MIN_LOG_LEVEL'] = '3'\n",
    "# disable GPU\n",
    "os.environ[\"CUDA_VISIBLE_DEVICES\"] = \"-1\"\n",
    "\n",
    "import tensorflow as tf\n",
    "# set tf to cpu only\n",
    "tf.config.set_visible_devices([], 'GPU')\n",
    "import jax\n",
    "jax.config.update('jax_platform_name', 'cpu')\n",
    "\n",
    "import glob\n",
    "import argparse\n",
    "import pickle\n",
    "# from vbd.data.data_utils import *\n",
    "from tqdm import tqdm\n",
    "from tqdm.contrib.concurrent import process_map  # or thread_map\n",
    "\n",
    "from waymax import dataloader\n",
    "from waymax.config import DataFormat\n",
    "import functools\n",
    "import numpy as np\n",
    "from vbd.model.model_utils import inverse_kinematics\n",
    "\n",
    "import torch"
   ]
  },
  {
   "cell_type": "code",
   "execution_count": 2,
   "id": "3cba4a3b",
   "metadata": {},
   "outputs": [],
   "source": [
    "class TrajectoryType:\n",
    "    STATIONARY = 0\n",
    "    STRAIGHT = 1\n",
    "    STRAIGHT_RIGHT = 2\n",
    "    STRAIGHT_LEFT = 3\n",
    "    RIGHT_U_TURN = 4\n",
    "    RIGHT_TURN = 5\n",
    "    LEFT_U_TURN = 6\n",
    "    LEFT_TURN = 7\n",
    "\n",
    "\n",
    "def classify_track(start_point, end_point, start_velocity, end_velocity, start_heading, end_heading):\n",
    "    # The classification strategy is taken from\n",
    "    # waymo_open_dataset/metrics/motion_metrics_utils.cc#L28\n",
    "\n",
    "    # Parameters for classification, taken from WOD\n",
    "    kMaxSpeedForStationary = 2.0  # (m/s)\n",
    "    kMaxDisplacementForStationary = 5.0  # (m)\n",
    "    kMaxLateralDisplacementForStraight = 5.0  # (m)\n",
    "    kMinLongitudinalDisplacementForUTurn = -5.0  # (m)\n",
    "    kMaxAbsHeadingDiffForStraight = np.pi / 6.0  # (rad)\n",
    "\n",
    "    x_delta = end_point[0] - start_point[0]\n",
    "    y_delta = end_point[1] - start_point[1]\n",
    "\n",
    "    final_displacement = np.hypot(x_delta, y_delta)\n",
    "    heading_diff = end_heading - start_heading\n",
    "    normalized_delta = np.array([x_delta, y_delta])\n",
    "    rotation_matrix = np.array([[np.cos(-start_heading), -np.sin(-start_heading)],\n",
    "                                [np.sin(-start_heading), np.cos(-start_heading)]])\n",
    "    normalized_delta = np.dot(rotation_matrix, normalized_delta)\n",
    "    start_speed = np.hypot(start_velocity[0], start_velocity[1])\n",
    "    end_speed = np.hypot(end_velocity[0], end_velocity[1])\n",
    "    max_speed = max(start_speed, end_speed)\n",
    "    dx, dy = normalized_delta\n",
    "\n",
    "    # Check for different trajectory types based on the computed parameters.\n",
    "    if max_speed < kMaxSpeedForStationary and final_displacement < kMaxDisplacementForStationary:\n",
    "        return TrajectoryType.STATIONARY\n",
    "    if np.abs(heading_diff) < kMaxAbsHeadingDiffForStraight:\n",
    "        if np.abs(normalized_delta[1]) < kMaxLateralDisplacementForStraight:\n",
    "            return TrajectoryType.STRAIGHT\n",
    "        return TrajectoryType.STRAIGHT_RIGHT if dy < 0 else TrajectoryType.STRAIGHT_LEFT\n",
    "    if heading_diff < -kMaxAbsHeadingDiffForStraight and dy < 0:\n",
    "        return TrajectoryType.RIGHT_U_TURN if normalized_delta[\n",
    "                                                  0] < kMinLongitudinalDisplacementForUTurn else TrajectoryType.RIGHT_TURN\n",
    "    if dx < kMinLongitudinalDisplacementForUTurn:\n",
    "        return TrajectoryType.LEFT_U_TURN\n",
    "    return TrajectoryType.LEFT_TURN"
   ]
  },
  {
   "cell_type": "code",
   "execution_count": null,
   "id": "586f155a",
   "metadata": {},
   "outputs": [
    {
     "name": "stdout",
     "output_type": "stream",
     "text": [
      "44097\n"
     ]
    }
   ],
   "source": [
    "dataset_type = \"validation\"\n",
    "data_dir = f\"/robin-west/womd_processed/vbd/{dataset_type}/processed/*.pkl\"\n",
    "data_file_list = glob.glob(data_dir)\n",
    "print(len(data_file_list))"
   ]
  },
  {
   "cell_type": "code",
   "execution_count": 4,
   "id": "8560ac00",
   "metadata": {},
   "outputs": [],
   "source": [
    "def extract_sdc_action(data):\n",
    "    scenario = data['scenario_raw']\n",
    "    sdc_id = np.where(scenario.object_metadata.is_sdc)[0][0]\n",
    "    sdc_id_in_processed = np.where(data[\"agents_id\"]==sdc_id)[0][0]\n",
    "    sdc_future = data[\"agents_future\"][sdc_id_in_processed]\n",
    "    assert sdc_future.shape[0] == 81 and sdc_future.shape[1] == 5, \"sdc future traj shape is wrong\"\n",
    "\n",
    "    start_point = sdc_future[0, 0:2]\n",
    "    end_point = sdc_future[-1, 0:2]\n",
    "    start_velocity = sdc_future[0, 3:]\n",
    "    end_velocity = sdc_future[-1, 3:]\n",
    "    start_heading = sdc_future[0, 2]\n",
    "    end_heading = sdc_future[-1, 2]\n",
    "\n",
    "    sdc_future_valid = torch.from_numpy(np.ones(sdc_future.shape[:1], dtype=bool)[None, None, :])\n",
    "    sdc_future = torch.from_numpy(sdc_future[None, None, :, :])\n",
    "    sdc_actions, sdc_action_valid = inverse_kinematics(sdc_future, sdc_future_valid)\n",
    "    action_mean = np.array([0.0, 0.0])\n",
    "    action_std = np.array([1.0, 0.15])\n",
    "    sdc_actions_normalized = (sdc_actions - action_mean) / action_std\n",
    "\n",
    "    action = classify_track(start_point, end_point, start_velocity, end_velocity, start_heading, end_heading)\n",
    "    return sdc_id, action, sdc_actions_normalized"
   ]
  },
  {
   "cell_type": "code",
   "execution_count": 7,
   "id": "f71ff8f8",
   "metadata": {},
   "outputs": [
    {
     "name": "stderr",
     "output_type": "stream",
     "text": [
      "  0%|          | 0/44097 [00:00<?, ?it/s]"
     ]
    },
    {
     "name": "stdout",
     "output_type": "stream",
     "text": [
      "{'deb173ad3dca7a7c': {'sdc_id': 4, 'action_label': 1, 'normalized_action': array([[[[-4.41166401e-01, -5.48680623e-03],\n",
      "         [-3.35773230e-01, -9.09169515e-03],\n",
      "         [-1.67015553e-01, -2.43822734e-03],\n",
      "         [-3.37047577e-02,  1.97092692e-04],\n",
      "         [ 1.55365467e-02, -5.22295634e-03],\n",
      "         [ 2.83234119e-02,  2.59081523e-03],\n",
      "         [ 1.69682503e-02,  6.74247742e-03],\n",
      "         [ 6.45495653e-01,  8.68797302e-03],\n",
      "         [ 1.23641109e+00,  4.80333964e-03],\n",
      "         [ 1.24734783e+00,  1.87555949e-04],\n",
      "         [ 1.25905037e+00, -1.76556905e-02],\n",
      "         [ 1.10549498e+00,  3.77972921e-03],\n",
      "         [ 7.52596855e-01, -1.14663442e-02],\n",
      "         [ 6.88885689e-01, -8.29696655e-04],\n",
      "         [ 2.02152252e-01, -5.16923269e-02],\n",
      "         [-1.39983177e-01, -7.17194875e-02]]]])}}\n"
     ]
    },
    {
     "name": "stderr",
     "output_type": "stream",
     "text": [
      "\n"
     ]
    }
   ],
   "source": [
    "action_labels = dict() \n",
    "i = 0\n",
    "for data_file_path in tqdm(data_file_list):\n",
    "    scenario_id = data_file_path.split(\"/\")[-1].rstrip(\".pkl\").split(\"_\")[-1]\n",
    "    with open(data_file_path, \"rb\") as data_f:\n",
    "        data = pickle.load(data_f)\n",
    "    sdc_id, action_label, normalized_action = extract_sdc_action(data)\n",
    "    action_labels[scenario_id] = {\n",
    "        'sdc_id': sdc_id,\n",
    "        'action_label': action_label,\n",
    "        'normalized_action': normalized_action.numpy(),\n",
    "    }\n",
    "\n",
    "    break\n",
    "    i += 1\n",
    "    if i == 100:\n",
    "        break\n",
    "\n",
    "print(action_labels)\n",
    "\n",
    "# with open(f\"/robin-west/womd_processed/vbd/{dataset_type}/action_labels.pkl\", \"wb\") as action_labels_f:\n",
    "#     pickle.dump(action_labels, action_labels_f)"
   ]
  },
  {
   "cell_type": "code",
   "execution_count": null,
   "id": "cdd2cf01",
   "metadata": {},
   "outputs": [],
   "source": []
  },
  {
   "cell_type": "code",
   "execution_count": 1,
   "id": "2bb540e7",
   "metadata": {},
   "outputs": [],
   "source": [
    "import matplotlib.pyplot as plt\n",
    "from enum import IntEnum\n",
    "\n",
    "# 1. Enumerate trajectory classes\n",
    "class TrajectoryType(IntEnum):\n",
    "    STATIONARY      = 0\n",
    "    STRAIGHT        = 1\n",
    "    STRAIGHT_RIGHT  = 2\n",
    "    STRAIGHT_LEFT   = 3\n",
    "    RIGHT_U_TURN    = 4\n",
    "    RIGHT_TURN      = 5\n",
    "    LEFT_U_TURN     = 6\n",
    "    LEFT_TURN       = 7\n",
    "\n",
    "# 2. Counts for each class (ID : total)\n",
    "validation_counts = {\n",
    "    TrajectoryType.STATIONARY:     11748,\n",
    "    TrajectoryType.STRAIGHT:       23105,\n",
    "    TrajectoryType.STRAIGHT_RIGHT: 1317,\n",
    "    TrajectoryType.STRAIGHT_LEFT:  1129,\n",
    "    TrajectoryType.RIGHT_U_TURN:   4,\n",
    "    TrajectoryType.RIGHT_TURN:     1971,\n",
    "    TrajectoryType.LEFT_U_TURN:    140,\n",
    "    TrajectoryType.LEFT_TURN:      4683,\n",
    "}\n",
    "\n",
    "training_counts = {\n",
    "    TrajectoryType.STATIONARY:     127324,\n",
    "    TrajectoryType.STRAIGHT:       255146,\n",
    "    TrajectoryType.STRAIGHT_RIGHT: 12404,\n",
    "    TrajectoryType.STRAIGHT_LEFT:  11920,\n",
    "    TrajectoryType.RIGHT_U_TURN:   67,\n",
    "    TrajectoryType.RIGHT_TURN:     23429,\n",
    "    TrajectoryType.LEFT_U_TURN:    1869,\n",
    "    TrajectoryType.LEFT_TURN:      54836,\n",
    "}"
   ]
  },
  {
   "cell_type": "code",
   "execution_count": 4,
   "id": "d345e8ea",
   "metadata": {},
   "outputs": [
    {
     "data": {
      "image/png": "[encoded data removed]",
      "text/plain": [
       "<Figure size 1000x600 with 1 Axes>"
      ]
     },
     "metadata": {},
     "output_type": "display_data"
    }
   ],
   "source": [
    "# 3. Build the bar chart\n",
    "labels = [t.name.replace('_', ' ').title() for t in validation_counts]   # pretty labels\n",
    "values = [validation_counts[t] for t in validation_counts]\n",
    "\n",
    "plt.figure(figsize=(10, 6))\n",
    "bars = plt.bar(labels, values)\n",
    "\n",
    "plt.ylabel(\"Count\")\n",
    "plt.title(\"Validation Ego Trajectory-Type Distribution\")\n",
    "plt.xticks(rotation=35, ha=\"right\")\n",
    "\n",
    "# optional: annotate exact counts on top of each bar\n",
    "for bar, value in zip(bars, values):\n",
    "    plt.text(bar.get_x() + bar.get_width()/2, value,\n",
    "             str(value), ha=\"center\", va=\"bottom\", fontsize=8)\n",
    "\n",
    "plt.tight_layout()\n",
    "plt.show()"
   ]
  },
  {
   "cell_type": "code",
   "execution_count": 5,
   "id": "af264f4f",
   "metadata": {},
   "outputs": [
    {
     "data": {
      "image/png": "[encoded data removed]",
      "text/plain": [
       "<Figure size 1000x600 with 1 Axes>"
      ]
     },
     "metadata": {},
     "output_type": "display_data"
    }
   ],
   "source": [
    "# 3. Build the bar chart\n",
    "labels = [t.name.replace('_', ' ').title() for t in training_counts]   # pretty labels\n",
    "values = [training_counts[t] for t in training_counts]\n",
    "\n",
    "plt.figure(figsize=(10, 6))\n",
    "bars = plt.bar(labels, values)\n",
    "\n",
    "plt.ylabel(\"Count\")\n",
    "plt.title(\"Training Ego Trajectory-Type Distribution\")\n",
    "plt.xticks(rotation=35, ha=\"right\")\n",
    "\n",
    "# optional: annotate exact counts on top of each bar\n",
    "for bar, value in zip(bars, values):\n",
    "    plt.text(bar.get_x() + bar.get_width()/2, value,\n",
    "             str(value), ha=\"center\", va=\"bottom\", fontsize=8)\n",
    "\n",
    "plt.tight_layout()\n",
    "plt.show()"
   ]
  },
  {
   "cell_type": "code",
   "execution_count": null,
   "id": "779460a9",
   "metadata": {},
   "outputs": [],
   "source": []
  },
  {
   "cell_type": "markdown",
   "id": "27148481",
   "metadata": {},
   "source": [
    "## find out mean and std of each action label"
   ]
  },
  {
   "cell_type": "code",
   "execution_count": 1,
   "id": "2485b243",
   "metadata": {},
   "outputs": [],
   "source": [
    "import numpy as np\n",
    "import pickle\n",
    "from glob import glob"
   ]
  },
  {
   "cell_type": "code",
   "execution_count": 2,
   "id": "e1123525",
   "metadata": {},
   "outputs": [],
   "source": [
    "with open('/robin-west/womd_processed/vbd/training/action_labels/action_labels_with_normalized_action_bucket_0.pkl', 'rb') as f:\n",
    "    data = pickle.load(f)"
   ]
  },
  {
   "cell_type": "code",
   "execution_count": 5,
   "id": "28252ae2",
   "metadata": {},
   "outputs": [
    {
     "data": {
      "text/plain": [
       "'339ff3d43222b4e5'"
      ]
     },
     "execution_count": 5,
     "metadata": {},
     "output_type": "execute_result"
    }
   ],
   "source": [
    "list(data.keys())[0]"
   ]
  },
  {
   "cell_type": "code",
   "execution_count": 17,
   "id": "d9887424",
   "metadata": {},
   "outputs": [
    {
     "data": {
      "text/plain": [
       "{'sdc_id': 8,\n",
       " 'action_label': 2,\n",
       " 'normalized_action': array([[[[ 0.19648385, -0.186704  ],\n",
       "          [ 0.18664813, -0.20502726],\n",
       "          [ 0.12271953, -0.22274971],\n",
       "          [ 0.07360101, -0.22857666],\n",
       "          [-0.07755232, -0.22489866],\n",
       "          [-0.08660603, -0.21511396],\n",
       "          [-0.22794771, -0.2044042 ],\n",
       "          [ 0.11642051, -0.18822352],\n",
       "          [ 0.93745536, -0.22035917],\n",
       "          [ 1.37539506, -0.31164487],\n",
       "          [ 1.38927937, -0.41975657],\n",
       "          [ 1.28811693, -0.53308805],\n",
       "          [ 1.18959951, -0.6156381 ],\n",
       "          [ 1.36446953, -0.64797401],\n",
       "          [ 1.53506279, -0.6836764 ],\n",
       "          [ 1.72013187, -0.86510658]]]])}"
      ]
     },
     "execution_count": 17,
     "metadata": {},
     "output_type": "execute_result"
    }
   ],
   "source": [
    "data['339ff3d43222b4e5']"
   ]
  },
  {
   "cell_type": "code",
   "execution_count": 9,
   "id": "c15a70f3",
   "metadata": {},
   "outputs": [
    {
     "data": {
      "text/plain": [
       "(16, 2)"
      ]
     },
     "execution_count": 9,
     "metadata": {},
     "output_type": "execute_result"
    }
   ],
   "source": [
    "data['339ff3d43222b4e5']['normalized_action'].squeeze().shape"
   ]
  },
  {
   "cell_type": "code",
   "execution_count": 1,
   "id": "0e255d1a",
   "metadata": {},
   "outputs": [],
   "source": [
    "import matplotlib.pyplot as plt\n",
    "from enum import IntEnum\n",
    "import numpy as np\n",
    "import pickle\n",
    "from glob import glob\n",
    "\n",
    "# 1. Enumerate trajectory classes\n",
    "class TrajectoryType(IntEnum):\n",
    "    STATIONARY      = 0\n",
    "    STRAIGHT        = 1\n",
    "    STRAIGHT_RIGHT  = 2\n",
    "    STRAIGHT_LEFT   = 3\n",
    "    RIGHT_U_TURN    = 4\n",
    "    RIGHT_TURN      = 5\n",
    "    LEFT_U_TURN     = 6\n",
    "    LEFT_TURN       = 7\n",
    "\n",
    "# 2. Counts for each class (ID : total)\n",
    "validation_counts = {\n",
    "    TrajectoryType.STATIONARY:     11748,\n",
    "    TrajectoryType.STRAIGHT:       23105,\n",
    "    TrajectoryType.STRAIGHT_RIGHT: 1317,\n",
    "    TrajectoryType.STRAIGHT_LEFT:  1129,\n",
    "    TrajectoryType.RIGHT_U_TURN:   4,\n",
    "    TrajectoryType.RIGHT_TURN:     1971,\n",
    "    TrajectoryType.LEFT_U_TURN:    140,\n",
    "    TrajectoryType.LEFT_TURN:      4683,\n",
    "}\n",
    "\n",
    "training_counts = {\n",
    "    TrajectoryType.STATIONARY:     127324,\n",
    "    TrajectoryType.STRAIGHT:       255146,\n",
    "    TrajectoryType.STRAIGHT_RIGHT: 12404,\n",
    "    TrajectoryType.STRAIGHT_LEFT:  11920,\n",
    "    TrajectoryType.RIGHT_U_TURN:   67,\n",
    "    TrajectoryType.RIGHT_TURN:     23429,\n",
    "    TrajectoryType.LEFT_U_TURN:    1869,\n",
    "    TrajectoryType.LEFT_TURN:      54836,\n",
    "}"
   ]
  },
  {
   "cell_type": "code",
   "execution_count": 2,
   "id": "ab33083a",
   "metadata": {},
   "outputs": [],
   "source": [
    "data_dir = \"/robin-west/womd_processed/vbd/training/action_labels/action_labels_with_normalized_action_bucket_*.pkl\"\n",
    "data_file_list = glob(data_dir)"
   ]
  },
  {
   "cell_type": "code",
   "execution_count": 3,
   "id": "6be071cc",
   "metadata": {},
   "outputs": [],
   "source": [
    "import tqdm"
   ]
  },
  {
   "cell_type": "code",
   "execution_count": 4,
   "id": "eaab7b86",
   "metadata": {},
   "outputs": [
    {
     "name": "stderr",
     "output_type": "stream",
     "text": [
      "  0%|          | 0/100 [00:00<?, ?it/s]"
     ]
    },
    {
     "name": "stderr",
     "output_type": "stream",
     "text": [
      "100%|██████████| 100/100 [00:21<00:00,  4.67it/s]\n"
     ]
    }
   ],
   "source": [
    "action_count = {k:0 for k in TrajectoryType}\n",
    "action_sum = {k:[] for k in TrajectoryType}\n",
    "\n",
    "for data_path in tqdm.tqdm(data_file_list):\n",
    "    with open(data_path, 'rb') as f:\n",
    "        data = pickle.load(f)\n",
    "    for sid in data.keys():\n",
    "        action_count[data[sid]['action_label']] += 1\n",
    "        action_sum[data[sid]['action_label']].append(data[sid]['normalized_action'].squeeze())\n"
   ]
  },
  {
   "cell_type": "code",
   "execution_count": 5,
   "id": "9f55e3c7",
   "metadata": {},
   "outputs": [],
   "source": [
    "means = []\n",
    "stds = []\n",
    "for key in range(8):\n",
    "    action_list = action_sum[key]\n",
    "    actions = np.stack(action_list, axis=0)\n",
    "    mean = np.mean(actions, axis=0)\n",
    "    std = np.std(actions, axis=0)\n",
    "    means.append(mean)\n",
    "    stds.append(std)\n"
   ]
  },
  {
   "cell_type": "code",
   "execution_count": 6,
   "id": "7ab9d0d0",
   "metadata": {},
   "outputs": [],
   "source": [
    "means = np.asarray(means)\n",
    "stds = np.asarray(stds)"
   ]
  },
  {
   "cell_type": "code",
   "execution_count": 7,
   "id": "59c420aa",
   "metadata": {},
   "outputs": [
    {
     "data": {
      "text/plain": [
       "(8, 40, 2)"
      ]
     },
     "execution_count": 7,
     "metadata": {},
     "output_type": "execute_result"
    }
   ],
   "source": [
    "means.shape"
   ]
  },
  {
   "cell_type": "code",
   "execution_count": 8,
   "id": "2cc78fd3",
   "metadata": {},
   "outputs": [],
   "source": [
    "emprical_priors = {\n",
    "    'means': means,\n",
    "    'stds': stds,\n",
    "}\n",
    "\n",
    "emprical_priors_path = '/robin-west/womd_processed/vbd/training/emprical_priors.pkl'\n",
    "\n",
    "with open(emprical_priors_path, 'wb') as emprical_priors_f:\n",
    "    pickle.dump(emprical_priors, emprical_priors_f)"
   ]
  },
  {
   "cell_type": "code",
   "execution_count": null,
   "id": "665b6d2a",
   "metadata": {},
   "outputs": [],
   "source": []
  }
 ],
 "metadata": {
  "kernelspec": {
   "display_name": "vbd",
   "language": "python",
   "name": "python3"
  },
  "language_info": {
   "codemirror_mode": {
    "name": "ipython",
    "version": 3
   },
   "file_extension": ".py",
   "mimetype": "text/x-python",
   "name": "python",
   "nbconvert_exporter": "python",
   "pygments_lexer": "ipython3",
   "version": "3.10.14"
  }
 },
 "nbformat": 4,
 "nbformat_minor": 5
}
