{
 "cells": [
  {
   "cell_type": "code",
   "execution_count": 1,
   "metadata": {},
   "outputs": [],
   "source": [
    "# Auto reload module\n",
    "# https://stackoverflow.com/questions/1907993/autoreload-of-modules-in-ipython\n",
    "%load_ext autoreload\n",
    "%autoreload 2"
   ]
  },
  {
   "cell_type": "code",
   "execution_count": 2,
   "metadata": {},
   "outputs": [],
   "source": [
    "import torch\n",
    "import yaml\n",
    "import datetime\n",
    "import argparse\n",
    "import os\n",
    "os.environ[\"TF_CPP_MIN_LOG_LEVEL\"] = \"3\"\n",
    "\n",
    "# set tf to cpu only\n",
    "import tensorflow as tf\n",
    "tf.config.set_visible_devices([], \"GPU\")\n",
    "import jax\n",
    "jax.config.update(\"jax_platform_name\", \"cpu\")\n",
    "\n",
    "import sys\n",
    "sys.path.append(\"/robin-west/VBD\")\n",
    "\n",
    "from vbd.data.dataset import WaymaxDataset\n",
    "from vbd.model.VBD import VBD\n",
    "from torch.utils.data import DataLoader\n",
    "\n",
    "import lightning.pytorch as pl\n",
    "from lightning.pytorch.callbacks import ModelCheckpoint, LearningRateMonitor\n",
    "from lightning.pytorch.loggers import WandbLogger, CSVLogger\n",
    "from lightning.pytorch.strategies import DDPStrategy\n",
    "\n",
    "from matplotlib import pyplot as plt"
   ]
  },
  {
   "cell_type": "code",
   "execution_count": 3,
   "metadata": {},
   "outputs": [],
   "source": [
    "def load_config(file_path):\n",
    "    with open(file_path, \"r\") as file:\n",
    "        data = yaml.safe_load(file)\n",
    "    return data"
   ]
  },
  {
   "cell_type": "code",
   "execution_count": 4,
   "metadata": {},
   "outputs": [],
   "source": [
    "# config_path = \"/robin-west/VBD/config/diffuse_ego_only/validate/vbd_ego_agent_future_len_40_input_action_normalize_true_prior_means_steer_and_speed_scale_8_no_cond_attn_ego_validate.yaml\"\n",
    "config_path = \"/robin-west/VBD/config/diffuse_ego_only/validate/vbd_ego_agent_future_len_40_input_action_normalize_true_prior_means_steer_and_speed_scale_15_no_cond_attn_ego_validate.yaml\"\n",
    "# config_path = \"/robin-west/VBD/config/diffuse_ego_only/validate/vbd_ego_agent_future_len_40_input_action_normalize_true_prior_means_steer_and_speed_scale_0_no_cond_attn_ego_validate.yaml\"\n",
    "# config_path = \"/robin-west/VBD/config/diffuse_ego_only/validate/vbd_ego_agent_future_len_80_input_action_normalize_true_prior_means_steer_and_speed_scale_15_no_cond_attn_ego_validate.yaml\"\n",
    "# config_path = \"/robin-west/VBD/config/_final_validate/vbd_ego_agent_future_len_40_input_action_normalize_true_prior_means_steer_and_speed_scale_0_no_cond_attn_ego_classifier_validate.yaml\"\n",
    "# config_path = \"/robin-west/VBD/config/mean/VBD_train_on_full_dataset_validate.yaml\"\n",
    "# config_path = \"/robin-west/VBD/config/_table_2/vbd_ego_agent_future_len_40_input_action_normalize_true_prior_means_steer_and_speed_scale_0_no_cond_attn_ego_classifier_validate_10.yaml\"\n",
    "# config_path = \"/robin-west/VBD/config/_final_validate/vbd_ego_agent_future_len_40_input_action_normalize_true_prior_means_steer_and_speed_scale_15_no_cond_attn_ego_validate.yaml\"\n",
    "\n",
    "cfg = load_config(config_path)\n",
    "cfg['num_workers'] = 1\n",
    "cfg['batch_size'] = 1\n",
    "dataset_dir = '/root/single_agent_subset/validation/processed'"
   ]
  },
  {
   "cell_type": "code",
   "execution_count": 5,
   "metadata": {},
   "outputs": [
    {
     "name": "stderr",
     "output_type": "stream",
     "text": [
      "Seed set to 42\n"
     ]
    }
   ],
   "source": [
    "pl.seed_everything(cfg[\"seed\"])\n",
    "torch.set_float32_matmul_precision(\"high\")    \n",
    "    \n",
    "# create dataset\n",
    "from vbd.data.dataset import WaymaxTestDataset\n",
    "\n",
    "val_dataset = WaymaxTestDataset(\n",
    "    data_dir=dataset_dir,\n",
    "    future_len = cfg[\"future_len\"],\n",
    "    anchor_path=cfg[\"anchor_path\"],\n",
    "    predict_ego_only=cfg[\"predict_ego_only\"],\n",
    "    action_labels_path=cfg[\"validation_action_labels_path\"],\n",
    "    max_object= cfg[\"agents_len\"],\n",
    ")\n",
    "\n",
    "# val_loader = DataLoader(\n",
    "#     val_dataset, \n",
    "#     batch_size=cfg[\"batch_size\"],\n",
    "#     pin_memory=True, \n",
    "#     num_workers=cfg[\"num_workers\"],\n",
    "#     shuffle=False\n",
    "# )"
   ]
  },
  {
   "cell_type": "code",
   "execution_count": 6,
   "metadata": {},
   "outputs": [],
   "source": [
    "# from vbd.waymax_visualization.plotting import plot_ego, plot_state\n",
    "# import mediapy\n",
    "\n",
    "# ids = random.sample(range(len(val_dataset)), 10)\n",
    "# for id in ids:\n",
    "#     print(id)\n",
    "#     scenario_id, scenario, data_dict = val_dataset.get_scenario_by_index(i)\n",
    "#     scenario.object_metadata.is_controlled = scenario.object_metadata.is_sdc\n",
    "#     print(data_dict['sdc_steer_label'], data_dict['sdc_speed_label'])\n",
    "#     mediapy.show_image(plot_state(scenario), width=800)\n"
   ]
  },
  {
   "cell_type": "code",
   "execution_count": 7,
   "metadata": {},
   "outputs": [],
   "source": [
    "from copy import deepcopy\n",
    "import random\n",
    "\n",
    "from vbd.waymax_visualization.plotting import plot_ego, plot_state\n",
    "import mediapy"
   ]
  },
  {
   "cell_type": "code",
   "execution_count": 8,
   "metadata": {},
   "outputs": [],
   "source": [
    "import jax\n",
    "import matplotlib.pyplot as plt\n",
    "import numpy as np\n",
    "def plot_batch_x_t_with_all_labels(scenario,agents_interested,x_t_history, timestep, batch, run_ids=None):\n",
    "    assert timestep < len(x_t_history)\n",
    "    steer_label_name = {\n",
    "        0: 'go straight',\n",
    "        1: 'left turn',\n",
    "        2: 'right turn',\n",
    "        3: 'U-turn',\n",
    "    }\n",
    "    speed_label_name = {\n",
    "        1: 'accelerate',\n",
    "        2: 'decelerate',\n",
    "        3: 'keep speed'\n",
    "    }\n",
    "    x_ts = x_t_history[timestep]\n",
    "    if run_ids is None:\n",
    "        run_ids = np.arange(x_ts.shape[0])\n",
    "    for i in run_ids:\n",
    "        steer_label = batch[i]['sdc_steer_label']\n",
    "        speed_label = batch[i]['sdc_speed_label'] # + 1 # reminder: remove this +1 for model after 0224\n",
    "        print('id_{}_steer_{}_speed_{}'.format(i, steer_label_name[steer_label], speed_label_name[speed_label]))\n",
    "        traj = x_ts[i]\n",
    "        img = plot_ego(\n",
    "            scenario, \n",
    "            ego_traj = traj[agents_interested[i]>0].detach().cpu().numpy(), \n",
    "            log_traj=True\n",
    "            )\n",
    "        # torch.norm(denoiser_outputs['denoised_trajs'][agents_interested>0][:, -1, 2:4])\n",
    "        mediapy.show_image(img, width=400)\n"
   ]
  },
  {
   "cell_type": "code",
   "execution_count": null,
   "metadata": {},
   "outputs": [],
   "source": [
    "def sample_with_random_id(val_dataset, i):\n",
    "    if type(i) is int:\n",
    "        scenario_id, scenario, data_dict = val_dataset.get_scenario_by_index(i)\n",
    "    elif type(i) is str:\n",
    "        scenario_id, scenario, data_dict = val_dataset.get_scenario_by_id(i)\n",
    "    scenario.object_metadata.is_controlled = scenario.object_metadata.is_sdc\n",
    "    print(data_dict['sdc_speed_label'], data_dict['sdc_steer_label'])\n",
    "\n",
    "    batch = []\n",
    "    for steer_label in [0, 1, 2, 3]:\n",
    "        for speed_label in [1, 2, 3]:\n",
    "            data_dict_ = deepcopy(data_dict)\n",
    "            data_dict_['sdc_steer_label'] = steer_label\n",
    "            data_dict_['sdc_speed_label'] = speed_label\n",
    "            # data_dict_['sdc_speed_label'] -= 1      # reminder: delete after 0224 model\n",
    "            batch.append(data_dict_)\n",
    "    # batch = [data_dict]\n",
    "    batch_collated = val_dataset.__collate_fn__(batch)\n",
    "\n",
    "    model = VBD(cfg=cfg)\n",
    "    ckpt_path = cfg.get(\"init_from\", None)\n",
    "    print(\"Load Weights from \", ckpt_path)\n",
    "    model.load_state_dict(torch.load(ckpt_path, map_location=torch.device(\"cuda\"))[\"state_dict\"])\n",
    "\n",
    "    model.cuda()\n",
    "    log_dict, denoiser_outputs, agents_interested, x_t_history = model.sample_denoiser_for_plot(batch_collated, calc_loss=True)   # log_dict compute the mean over all labels\n",
    "    print(log_dict)\n",
    "    return scenario, agents_interested, x_t_history, batch\n",
    "\n",
    "    plot_batch_x_t_with_all_labels(\n",
    "        scenario = scenario,\n",
    "        agents_interested = agents_interested,\n",
    "        x_t_history = x_t_history, \n",
    "        timestep = timestep, \n",
    "        batch = batch,\n",
    "        run_ids=None)"
   ]
  },
  {
   "cell_type": "code",
   "execution_count": 10,
   "metadata": {},
   "outputs": [
    {
     "name": "stdout",
     "output_type": "stream",
     "text": [
      "2309\n"
     ]
    }
   ],
   "source": [
    "print(len(val_dataset))"
   ]
  },
  {
   "cell_type": "code",
   "execution_count": 11,
   "metadata": {},
   "outputs": [
    {
     "name": "stderr",
     "output_type": "stream",
     "text": [
      "An NVIDIA GPU may be present on this machine, but a CUDA-enabled jaxlib is not installed. Falling back to cpu.\n"
     ]
    },
    {
     "name": "stdout",
     "output_type": "stream",
     "text": [
      "2223\n",
      "2 2\n",
      "Load Weights from  /robin-west/VBD/train_log_0225/vbd_ego_only_type_sample_schedule_linear_future_len_40_input_type_action_normalize_action_True_label_True_type_steer_and_speed_scale_0.0_cond_embed_None_diffuse_ego_True/epoch=63.ckpt\n",
      "{}\n"
     ]
    }
   ],
   "source": [
    "# [2233, 2232， 1728, 456]\n",
    "# right turn, decelerate: 2228\n",
    "# 2227, 2225, 2223\n",
    "i = 2223#random.randint(0, len(val_dataset))         \n",
    "print(i)\n",
    "scenario, agents_interested, x_t_history, batch = sample_with_random_id(val_dataset, i)"
   ]
  },
  {
   "cell_type": "code",
   "execution_count": null,
   "metadata": {},
   "outputs": [],
   "source": [
    "timestep = -1\n",
    "plot_batch_x_t_with_all_labels(\n",
    "        scenario = scenario,\n",
    "        agents_interested = agents_interested,\n",
    "        x_t_history = x_t_history, \n",
    "        timestep = timestep, \n",
    "        batch = batch,\n",
    "        run_ids=None\n",
    "        )"
   ]
  },
  {
   "cell_type": "code",
   "execution_count": null,
   "metadata": {},
   "outputs": [],
   "source": []
  },
  {
   "cell_type": "code",
   "execution_count": 14,
   "metadata": {},
   "outputs": [],
   "source": [
    "# i = \"6ece5198f531a353\"\n",
    "# _, _, _, data = val_dataset.get_scenario_by_id(i)\n",
    "\n",
    "\n",
    "# def extract_high_level_motion_action(heading, acceleration):\n",
    "#     if acceleration > 1: \n",
    "#         speed_action = 1 # acceleration\n",
    "#     elif acceleration < -1:\n",
    "#         speed_action = 2 # deceleration\n",
    "#     else:\n",
    "#         speed_action = 3 # keep speed\n",
    "    \n",
    "#     heading = np.rad2deg(heading)\n",
    "#     if np.abs(heading) < 2.4:\n",
    "#         steering_action = 0 # go straight\n",
    "#     elif np.abs(heading) < 26.4: \n",
    "#         if heading > 0 :\n",
    "#             steering_action = 1 # turn left\n",
    "#         else: \n",
    "#             steering_action = 2 # turn right\n",
    "#     else:\n",
    "#         if heading > 0 :\n",
    "#             steering_action = 3 # left u turn\n",
    "#         else: \n",
    "#             steering_action = 2 # turn right\n",
    "    \n",
    "#     return np.array([speed_action, steering_action])\n",
    "\n",
    "\n",
    "# def wrap_angle(angle):\n",
    "#     \"\"\"\n",
    "#     Wrap the angle to [-pi, pi].\n",
    "\n",
    "#     Args:\n",
    "#         angle (torch.Tensor): Angle tensor.\n",
    "\n",
    "#     Returns:\n",
    "#         torch.Tensor: Wrapped angle.\n",
    "\n",
    "#     \"\"\"\n",
    "#     # return torch.atan2(torch.sin(angle), torch.cos(angle))\n",
    "#     return (angle + torch.pi) % (2 * torch.pi) - torch.pi\n",
    "\n",
    "\n",
    "# def extract_patch_action(speed_patch, heading_patch):\n",
    "#     ## no need for sdc\n",
    "#     # first_valid_ts = -1\n",
    "#     # last_valid_ts = -1\n",
    "#     # for ts in range(valid_patch.shape[0]):\n",
    "#     #     if first_valid_ts==-1 and valid_patch[ts]:\n",
    "#     #         first_valid_ts = ts\n",
    "#     #     elif first_valid_ts!=-1 and last_valid_ts==-1:\n",
    "#     #         if not valid_patch[ts]:\n",
    "#     #             last_valid_ts = ts - 1\n",
    "#     #         elif ts == valid_patch.shape[0]-1:\n",
    "#     #             last_valid_ts = ts\n",
    "#     # if first_valid_ts==-1 and last_valid_ts==-1 or first_valid_ts==last_valid_ts:\n",
    "#     #     return np.array([-1, -1], dtype=np.float32)\n",
    "#     assert len(speed_patch) == len(heading_patch)\n",
    "#     speed_diff = 10 * (speed_patch[-1] - speed_patch[0]) / len(speed_patch)\n",
    "#     heading_diff = 10 * wrap_angle(heading_patch[-1] - heading_patch[0]) / len(heading_patch)\n",
    "#     heading_diff = wrap_angle(heading_diff)\n",
    "#     print(speed_patch[-1], speed_patch[0])\n",
    "#     print(heading_diff, heading_patch[-1], heading_patch[0])\n",
    "#     patch_action = extract_high_level_motion_action(heading_diff, speed_diff)\n",
    "#     return patch_action\n",
    "\n",
    "\n",
    "# def extract_patches_action(speed, heading, sample_rate=10):\n",
    "#     high_level_action = []\n",
    "#     for patch_id in range((speed.shape[0]) // sample_rate):\n",
    "#         print(\"***\")\n",
    "#         speed_patch = speed[patch_id*sample_rate:(patch_id+1)*sample_rate]\n",
    "#         heading_patch = heading[patch_id*sample_rate:(patch_id+1)*sample_rate]\n",
    "#         high_level_action.append(extract_patch_action(speed_patch, heading_patch))\n",
    "#     return np.stack(high_level_action, axis=0)\n",
    "\n",
    "\n",
    "# def extract_sdc_action(data):\n",
    "#     scenario = data['scenario_raw']\n",
    "#     sdc_id = np.where(scenario.object_metadata.is_sdc)[0][0]\n",
    "#     sdc_id_in_processed = np.where(data[\"agents_id\"]==sdc_id)[0][0]\n",
    "#     sdc_future = data[\"agents_future\"][sdc_id_in_processed]\n",
    "#     assert sdc_future.shape[0] == 81 and sdc_future.shape[1] == 5, \"sdc future traj shape is wrong\"\n",
    "#     vel_xy = sdc_future[:, 3:]\n",
    "#     speed = np.linalg.norm(vel_xy, axis=-1)\n",
    "#     heading = sdc_future[:, 2]\n",
    "#     # sdc_future_actions_4s = extract_patches_action(speed, heading, sample_rate=40)\n",
    "#     sdc_future_actions_1s = extract_patches_action(speed, heading, sample_rate=10)\n",
    "#     # return sdc_id, sdc_future_actions_4s, sdc_future_actions_1s"
   ]
  },
  {
   "cell_type": "code",
   "execution_count": null,
   "metadata": {},
   "outputs": [],
   "source": []
  },
  {
   "cell_type": "code",
   "execution_count": null,
   "metadata": {},
   "outputs": [],
   "source": []
  },
  {
   "cell_type": "code",
   "execution_count": 1,
   "metadata": {},
   "outputs": [],
   "source": [
    "from glob import glob \n",
    "import pickle\n",
    "import numpy as np\n",
    "from tqdm import tqdm\n",
    "\n",
    "def table_2_stats(results_dir):\n",
    "    scenario_results_path = glob(results_dir)\n",
    "    print(scenario_results_path[0])\n",
    "    speed_acc_ds = []\n",
    "    steer_acc_ds = []\n",
    "    combined_acc_ds = []\n",
    "    OR = []\n",
    "    steer_key = []\n",
    "    speed_key = []\n",
    "\n",
    "    for scenario_result_path in tqdm(scenario_results_path):\n",
    "        with open(scenario_result_path, 'rb') as scenario_result_f:\n",
    "            scenario_result = pickle.load(scenario_result_f) \n",
    "        # print(scenario_result.keys())\n",
    "        speed_acc = np.mean(scenario_result['speed_acc'])\n",
    "        steer_acc = np.mean(scenario_result['steer_acc'])\n",
    "        speed_acc_ds.append(speed_acc)\n",
    "        steer_acc_ds.append(steer_acc)\n",
    "        speed_key.append(scenario_result['speed_label'].detach().cpu().numpy())\n",
    "        steer_key.append(scenario_result['steer_label'].detach().cpu().numpy())\n",
    "        combined_acc = np.mean(scenario_result['speed_acc'] * scenario_result['steer_acc'])\n",
    "        combined_acc_ds.append(combined_acc)\n",
    "        OR.append(scenario_result['offroad'].mean())\n",
    "    return speed_acc_ds, steer_acc_ds, speed_key, steer_key, OR, combined_acc_ds"
   ]
  },
  {
   "cell_type": "code",
   "execution_count": 4,
   "metadata": {},
   "outputs": [
    {
     "name": "stdout",
     "output_type": "stream",
     "text": [
      "/robin-west/VBD/config/_table_2/results/scale_0.0_cond_None_means_type_steer_and_speed_gradients_scale_1/1350abaa358b6f2a.pkl\n"
     ]
    },
    {
     "name": "stderr",
     "output_type": "stream",
     "text": [
      "  0%|          | 0/2309 [00:00<?, ?it/s]"
     ]
    },
    {
     "name": "stderr",
     "output_type": "stream",
     "text": [
      "100%|██████████| 2309/2309 [00:44<00:00, 52.20it/s] \n"
     ]
    },
    {
     "name": "stdout",
     "output_type": "stream",
     "text": [
      "1 0.3490688609787787 0.40291612530677057 0.2887253\n",
      "/robin-west/VBD/config/_table_2/results/scale_0.0_cond_None_means_type_steer_and_speed_gradients_scale_0.1/1350abaa358b6f2a.pkl\n"
     ]
    },
    {
     "name": "stderr",
     "output_type": "stream",
     "text": [
      "100%|██████████| 2309/2309 [04:30<00:00,  8.52it/s] \n"
     ]
    },
    {
     "name": "stdout",
     "output_type": "stream",
     "text": [
      "01 0.3269813772195756 0.26403926663779415 0.19792117\n",
      "/robin-west/VBD/config/_table_2/results/scale_0.0_cond_None_means_type_steer_and_speed_gradients_scale_10/1350abaa358b6f2a.pkl\n"
     ]
    },
    {
     "name": "stderr",
     "output_type": "stream",
     "text": [
      "100%|██████████| 2309/2309 [05:09<00:00,  7.46it/s]\n"
     ]
    },
    {
     "name": "stdout",
     "output_type": "stream",
     "text": [
      "10 0.4280352244839035 0.4192291035080121 0.37924066\n",
      "/robin-west/VBD/config/_table_2/results/scale_0.0_cond_20_means_type_steer_and_speed_gradients_scale_0.0/1350abaa358b6f2a.pkl\n"
     ]
    },
    {
     "name": "stderr",
     "output_type": "stream",
     "text": [
      "100%|██████████| 2309/2309 [05:28<00:00,  7.04it/s]\n"
     ]
    },
    {
     "name": "stdout",
     "output_type": "stream",
     "text": [
      "c 0.6955391944564747 0.23126894759636207 0.31009096\n",
      "/robin-west/VBD/config/_table_2/results/scale_8.0_cond_None_means_type_steer_and_speed_gradients_scale_0.0/1350abaa358b6f2a.pkl\n"
     ]
    },
    {
     "name": "stderr",
     "output_type": "stream",
     "text": [
      "100%|██████████| 2309/2309 [08:18<00:00,  4.63it/s]\n"
     ]
    },
    {
     "name": "stdout",
     "output_type": "stream",
     "text": [
      "ms8 0.4660025985275011 0.23054713440161684 0.14436264\n",
      "/robin-west/VBD/config/_table_2/results/scale_15.0_cond_None_means_type_steer_and_speed_gradients_scale_0.0/1350abaa358b6f2a.pkl\n"
     ]
    },
    {
     "name": "stderr",
     "output_type": "stream",
     "text": [
      "100%|██████████| 2309/2309 [05:46<00:00,  6.67it/s]"
     ]
    },
    {
     "name": "stdout",
     "output_type": "stream",
     "text": [
      "ms15 0.5484336653674029 0.23285693662480147 0.14176412\n"
     ]
    },
    {
     "name": "stderr",
     "output_type": "stream",
     "text": [
      "\n"
     ]
    }
   ],
   "source": [
    "results_dir_dict = {\n",
    "    '1': '/robin-west/VBD/config/_table_2/results/scale_0.0_cond_None_means_type_steer_and_speed_gradients_scale_1/*.pkl',\n",
    "    '01': '/robin-west/VBD/config/_table_2/results/scale_0.0_cond_None_means_type_steer_and_speed_gradients_scale_0.1/*.pkl',\n",
    "    '10': '/robin-west/VBD/config/_table_2/results/scale_0.0_cond_None_means_type_steer_and_speed_gradients_scale_10/*.pkl',\n",
    "    'c': '/robin-west/VBD/config/_table_2/results/scale_0.0_cond_20_means_type_steer_and_speed_gradients_scale_0.0/*.pkl',\n",
    "    'ms8': '/robin-west/VBD/config/_table_2/results/scale_8.0_cond_None_means_type_steer_and_speed_gradients_scale_0.0/*.pkl',\n",
    "    'ms15': '/robin-west/VBD/config/_table_2/results/scale_15.0_cond_None_means_type_steer_and_speed_gradients_scale_0.0/*.pkl',\n",
    "}\n",
    "\n",
    "combined_results = {}\n",
    "for key in results_dir_dict:\n",
    "    results_dir = results_dir_dict[key]\n",
    "    speed_acc_ds, steer_acc_ds, speed_key, steer_key, OR, combined_acc = table_2_stats(results_dir)\n",
    "    combined_results[key] = {\n",
    "        'steer_key': steer_key,\n",
    "        'speed_key': speed_key,\n",
    "        'steer_acc': steer_acc_ds,\n",
    "        'speed_acc': speed_acc_ds,\n",
    "        'offroad': OR,\n",
    "        'acc': combined_acc,\n",
    "    }\n",
    "    print(key,np.mean(speed_acc_ds), np.mean(steer_acc_ds), np.mean(OR))"
   ]
  },
  {
   "cell_type": "code",
   "execution_count": 3,
   "metadata": {},
   "outputs": [],
   "source": [
    "with open('/robin-west/VBD/config/_table_2/results/table2.pkl', 'wb') as table_2_f:\n",
    "    pickle.dump(combined_results, table_2_f)"
   ]
  },
  {
   "cell_type": "code",
   "execution_count": 6,
   "metadata": {},
   "outputs": [],
   "source": [
    "from copy import deepcopy\n",
    "ref = deepcopy(combined_results['ms15'])"
   ]
  },
  {
   "cell_type": "code",
   "execution_count": 16,
   "metadata": {},
   "outputs": [
    {
     "data": {
      "text/plain": [
       "0.0043771043"
      ]
     },
     "execution_count": 16,
     "metadata": {},
     "output_type": "execute_result"
    }
   ],
   "source": [
    "mask = np.asarray(ref['offroad']) < 0.4\n",
    "\n",
    "np.mean(np.asarray(ref['offroad'])[mask])"
   ]
  },
  {
   "cell_type": "code",
   "execution_count": 17,
   "metadata": {},
   "outputs": [
    {
     "data": {
      "text/plain": [
       "array([0., 0., 0., ..., 0., 0., 0.], dtype=float32)"
      ]
     },
     "execution_count": 17,
     "metadata": {},
     "output_type": "execute_result"
    }
   ],
   "source": [
    "np.asarray(ref['offroad'])"
   ]
  },
  {
   "cell_type": "code",
   "execution_count": null,
   "metadata": {},
   "outputs": [],
   "source": []
  },
  {
   "cell_type": "code",
   "execution_count": null,
   "metadata": {},
   "outputs": [],
   "source": []
  },
  {
   "cell_type": "code",
   "execution_count": 55,
   "metadata": {},
   "outputs": [
    {
     "data": {
      "text/plain": [
       "(0.8, 0.6)"
      ]
     },
     "execution_count": 55,
     "metadata": {},
     "output_type": "execute_result"
    }
   ],
   "source": [
    "# 0.1:  0.3269813772195756 0.26403926663779415\n",
    "# 1: 0.3490688609787787 0.40291612530677057\n",
    "# 10: (0.4280352244839037, 0.41922910350801257)\n",
    "# condition: 0.6955391944564747 0.23126894759636207\n",
    "# ours scale 8 (0.47667198864644306, 0.23054713440161684\n",
    "# ours scale15 (0.5484336653674027, 0.2328569366248014)\n",
    "\n",
    "0.8, 0.6"
   ]
  },
  {
   "cell_type": "code",
   "execution_count": 5,
   "metadata": {},
   "outputs": [],
   "source": [
    "import pickle\n",
    "import torch\n",
    "with open('/robin-west/VBD/config/_table_2/results/scale_8.0_cond_None_means_type_steer_and_speed_gradients_scale_0.0/1e619f364eb0d19c.pkl', 'rb') as f:\n",
    "    results = pickle.load(f)"
   ]
  },
  {
   "cell_type": "code",
   "execution_count": 6,
   "metadata": {},
   "outputs": [
    {
     "data": {
      "text/plain": [
       "{'ADE': array([0.6624671 , 0.43391162, 0.6664012 , 5.1569314 , 4.5021873 ,\n",
       "        4.0214095 , 2.3454378 , 2.4551225 , 2.2114265 , 3.6436558 ,\n",
       "        4.108943  , 4.1375575 , 6.824962  , 6.7768946 , 6.6980376 ,\n",
       "        5.436253  , 6.2017007 , 5.315212  , 1.0896425 , 1.6023048 ,\n",
       "        1.2920474 , 6.2474937 , 6.92875   , 6.4747086 , 5.86187   ,\n",
       "        5.315156  , 6.645833  , 6.7562876 , 6.6236224 , 5.895626  ,\n",
       "        2.1064236 , 1.311551  , 1.4465517 , 4.9791474 , 5.480845  ,\n",
       "        3.8807266 ], dtype=float32),\n",
       " 'FDE': array([ 1.5384046,  1.2605006,  1.4976586, 15.010744 , 13.680626 ,\n",
       "        12.539918 ,  7.182234 ,  6.925472 ,  6.7745695, 10.522559 ,\n",
       "        11.302546 , 11.236442 , 19.63363  , 19.611345 , 19.418152 ,\n",
       "        16.109837 , 18.127075 , 15.389492 ,  3.9241576,  5.5619245,\n",
       "         4.794102 , 18.313982 , 19.82665  , 18.903933 , 17.882793 ,\n",
       "        16.568302 , 20.59802  , 19.381147 , 18.805323 , 17.67942  ,\n",
       "         6.403363 ,  4.4282694,  5.2266417, 14.616061 , 15.446487 ,\n",
       "        11.4380665], dtype=float32),\n",
       " 'miss_rate': array([False, False, False,  True,  True,  True,  True,  True,  True,\n",
       "         True,  True,  True,  True,  True,  True,  True,  True,  True,\n",
       "         True,  True,  True,  True,  True,  True,  True,  True,  True,\n",
       "         True,  True,  True,  True, False, False,  True,  True,  True]),\n",
       " 'overlap': array([0., 0., 0., 0., 0., 0., 0., 0., 0., 0., 0., 0., 0., 0., 0., 0., 0.,\n",
       "        0., 0., 0., 0., 0., 0., 0., 0., 0., 0., 0., 0., 0., 0., 0., 0., 0.,\n",
       "        0., 0.], dtype=float32),\n",
       " 'overlap_binary': array([0., 0., 0., 0., 0., 0., 0., 0., 0., 0., 0., 0., 0., 0., 0., 0., 0.,\n",
       "        0., 0., 0., 0., 0., 0., 0., 0., 0., 0., 0., 0., 0., 0., 0., 0., 0.,\n",
       "        0., 0.], dtype=float32),\n",
       " 'offroad': array([0., 0., 0., 0., 0., 0., 0., 0., 0., 1., 1., 1., 0., 0., 0., 1., 0.,\n",
       "        1., 1., 1., 1., 1., 1., 1., 1., 1., 1., 1., 1., 1., 0., 0., 0., 0.,\n",
       "        0., 0.], dtype=float32),\n",
       " 'speed_acc': array([False, False, False, False, False, False,  True,  True,  True,\n",
       "        False, False, False,  True,  True,  True,  True,  True,  True,\n",
       "        False, False, False,  True,  True,  True,  True,  True,  True,\n",
       "        False, False, False, False, False, False,  True,  True,  True]),\n",
       " 'steer_acc': array([ True, False,  True, False, False, False, False, False, False,\n",
       "        False, False, False, False, False, False, False, False, False,\n",
       "        False, False, False, False, False, False, False, False, False,\n",
       "         True,  True,  True,  True,  True,  True,  True,  True,  True])}"
      ]
     },
     "execution_count": 6,
     "metadata": {},
     "output_type": "execute_result"
    }
   ],
   "source": [
    "results"
   ]
  },
  {
   "cell_type": "code",
   "execution_count": null,
   "metadata": {},
   "outputs": [],
   "source": []
  }
 ],
 "metadata": {
  "kernelspec": {
   "display_name": "vbd",
   "language": "python",
   "name": "python3"
  },
  "language_info": {
   "codemirror_mode": {
    "name": "ipython",
    "version": 3
   },
   "file_extension": ".py",
   "mimetype": "text/x-python",
   "name": "python",
   "nbconvert_exporter": "python",
   "pygments_lexer": "ipython3",
   "version": "3.10.14"
  }
 },
 "nbformat": 4,
 "nbformat_minor": 2
}
