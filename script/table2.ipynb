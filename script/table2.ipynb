{
 "cells": [
  {
   "cell_type": "code",
   "execution_count": 1,
   "metadata": {},
   "outputs": [],
   "source": [
    "# results_path = \"/robin-west/VBD/config/_table_2/results/combined_results.pkl\"\n",
    "results_path = \"/robin-west/VBD/config/_table_2/results_0227/table2.pkl\""
   ]
  },
  {
   "cell_type": "code",
   "execution_count": 2,
   "metadata": {},
   "outputs": [],
   "source": [
    "import pickle \n",
    "with open(results_path, 'rb') as results_f:\n",
    "    results = pickle.load(results_f)"
   ]
  },
  {
   "cell_type": "code",
   "execution_count": 3,
   "metadata": {},
   "outputs": [],
   "source": [
    "from copy import deepcopy\n",
    "ref = deepcopy(results['ms15'])"
   ]
  },
  {
   "cell_type": "code",
   "execution_count": 4,
   "metadata": {},
   "outputs": [
    {
     "data": {
      "text/plain": [
       "0.0043771043"
      ]
     },
     "execution_count": 4,
     "metadata": {},
     "output_type": "execute_result"
    }
   ],
   "source": [
    "import numpy as np\n",
    "mask = np.asarray(ref['offroad']) < 0.4\n",
    "np.mean(np.asarray(ref['offroad'])[mask])"
   ]
  },
  {
   "cell_type": "code",
   "execution_count": 5,
   "metadata": {},
   "outputs": [],
   "source": [
    "# N scenario  x k method x d metric \n",
    "results_dir_dict = {\n",
    "    '1': '/robin-west/VBD/config/_table_2/results/scale_0.0_cond_None_means_type_steer_and_speed_gradients_scale_1/*.pkl',\n",
    "    '01': '/robin-west/VBD/config/_table_2/results/scale_0.0_cond_None_means_type_steer_and_speed_gradients_scale_0.1/*.pkl',\n",
    "    '10': '/robin-west/VBD/config/_table_2/results/scale_0.0_cond_None_means_type_steer_and_speed_gradients_scale_10/*.pkl',\n",
    "    'c': '/robin-west/VBD/config/_table_2/results/scale_0.0_cond_20_means_type_steer_and_speed_gradients_scale_0.0/*.pkl',\n",
    "    'ms8': '/robin-west/VBD/config/_table_2/results/scale_8.0_cond_None_means_type_steer_and_speed_gradients_scale_0.0/*.pkl',\n",
    "    'ms15': '/robin-west/VBD/config/_table_2/results/scale_15.0_cond_None_means_type_steer_and_speed_gradients_scale_0.0/*.pkl',\n",
    "}"
   ]
  },
  {
   "cell_type": "code",
   "execution_count": 6,
   "metadata": {},
   "outputs": [],
   "source": [
    "results_metric = np.zeros((2309, 6, 4))\n",
    "methods = ['1', '01', '10', 'c', 'ms8', 'ms15']\n",
    "metric = ['offroad', 'steer_acc', 'speed_acc', 'acc']\n",
    "\n",
    "for m in range(len(methods)):\n",
    "    for d in range(len(metric)):\n",
    "        results_metric[:,m,d] = results[methods[m]][metric[d]]"
   ]
  },
  {
   "cell_type": "code",
   "execution_count": 9,
   "metadata": {},
   "outputs": [],
   "source": [
    "results_metric.shape\n",
    "with open('/robin-west/VBD/config/_table_2/results_0227/results_metric.pkl', 'wb') as results_metric_f:\n",
    "    pickle.dump(results_metric, results_metric_f)"
   ]
  },
  {
   "cell_type": "code",
   "execution_count": 9,
   "metadata": {},
   "outputs": [
    {
     "name": "stdout",
     "output_type": "stream",
     "text": [
      "(329, 6, 4)\n",
      "[[0.17527862 0.75785208 0.51367781 0.40020263]\n",
      " [0.15704154 0.74569402 0.48530902 0.3556231 ]\n",
      " [0.23201621 0.74670719 0.63120567 0.50557244]\n",
      " [0.32218845 0.68895643 0.86828774 0.58865248]\n",
      " [0.16514691 0.7710233  0.67983789 0.51469098]\n",
      " [0.17426545 0.87740628 0.94427558 0.83080041]]\n"
     ]
    }
   ],
   "source": [
    "acc_check = np.where(results_metric[:, -1, -1] > 0 )[0]\n",
    "results_metric_ = results_metric[acc_check] \n",
    "print(results_metric_.shape)\n",
    "print(np.mean(results_metric_, axis=0))"
   ]
  },
  {
   "cell_type": "code",
   "execution_count": null,
   "metadata": {},
   "outputs": [],
   "source": []
  },
  {
   "cell_type": "code",
   "execution_count": null,
   "metadata": {},
   "outputs": [],
   "source": []
  },
  {
   "cell_type": "code",
   "execution_count": null,
   "metadata": {},
   "outputs": [],
   "source": []
  },
  {
   "cell_type": "code",
   "execution_count": 11,
   "metadata": {},
   "outputs": [],
   "source": [
    "offroad_thres = 0.5\n",
    "acc_thres = 0.005"
   ]
  },
  {
   "cell_type": "code",
   "execution_count": null,
   "metadata": {},
   "outputs": [
    {
     "name": "stdout",
     "output_type": "stream",
     "text": [
      "(1835, 6, 4)\n",
      "[[0.16112625 0.40290645 0.33841962 0.13660309]\n",
      " [0.09300636 0.27247956 0.31389646 0.08446866]\n",
      " [0.27029973 0.41598547 0.42833787 0.19037239]\n",
      " [0.19673025 0.22924614 0.68010899 0.1729337 ]\n",
      " [0.06121708 0.24032698 0.46303361 0.10063579]\n",
      " [0.0599455  0.23960036 0.54986376 0.12352407]]\n",
      "(271, 6, 4)\n",
      "[[0.07134071 0.79704797 0.4895449  0.40467405]\n",
      " [0.06642067 0.78351784 0.45264453 0.35916359]\n",
      " [0.13776138 0.78474785 0.61623616 0.51783518]\n",
      " [0.23124231 0.70602706 0.86223862 0.59901599]\n",
      " [0.09840098 0.7896679  0.66666667 0.51783518]\n",
      " [0.0897909  0.88314883 0.94341943 0.83640836]]\n"
     ]
    }
   ],
   "source": [
    "# offroad_check = np.mean(results_metric[:,:,0], axis=-1)\n",
    "# valid_indices = np.where(offroad_check < offroad_thres)[0]\n",
    "# results_metric_ = results_metric[valid_indices] \n",
    "# print(results_metric_.shape)\n",
    "# print(np.mean(results_metric_, axis=0))\n",
    "# # acc_check = np.max(results_metric_[:,:,-1], axis=-1)\n",
    "# acc_check = np.where(results_metric_[:, -1, -1] > 0 )[0]\n",
    "# results_metric__ = results_metric_[acc_check]\n",
    "# print(results_metric__.shape)\n",
    "# print(np.mean(results_metric__, axis=0))\n"
   ]
  },
  {
   "cell_type": "code",
   "execution_count": 12,
   "metadata": {},
   "outputs": [
    {
     "data": {
      "text/plain": [
       "(203, 6, 4)"
      ]
     },
     "execution_count": 12,
     "metadata": {},
     "output_type": "execute_result"
    }
   ],
   "source": [
    "print(results_metric__.shape)"
   ]
  },
  {
   "cell_type": "code",
   "execution_count": 41,
   "metadata": {},
   "outputs": [
    {
     "data": {
      "text/plain": [
       "[<matplotlib.lines.Line2D at 0x7fee50abe8c0>]"
      ]
     },
     "execution_count": 41,
     "metadata": {},
     "output_type": "execute_result"
    },
    {
     "data": {
      "image/png": "[encoded data removed]",
      "text/plain": [
       "<Figure size 640x480 with 1 Axes>"
      ]
     },
     "metadata": {},
     "output_type": "display_data"
    }
   ],
   "source": [
    "import matplotlib.pyplot as plt\n",
    "plt.plot(np.sort(offroad_check))\n",
    "# plt.ylim(0,0.2)"
   ]
  },
  {
   "cell_type": "code",
   "execution_count": 42,
   "metadata": {},
   "outputs": [
    {
     "data": {
      "text/plain": [
       "array([0.        , 0.11111111, 0.22222222, 0.33333333, 0.44444444,\n",
       "       0.55555556, 0.66666667, 0.77777778, 0.88888889, 1.        ])"
      ]
     },
     "execution_count": 42,
     "metadata": {},
     "output_type": "execute_result"
    }
   ],
   "source": [
    "np.linspace(0,1,10)\n"
   ]
  },
  {
   "cell_type": "code",
   "execution_count": null,
   "metadata": {},
   "outputs": [],
   "source": []
  },
  {
   "cell_type": "code",
   "execution_count": null,
   "metadata": {},
   "outputs": [],
   "source": []
  },
  {
   "cell_type": "code",
   "execution_count": 32,
   "metadata": {},
   "outputs": [
    {
     "data": {
      "text/plain": [
       "(2309, 6, 4)"
      ]
     },
     "execution_count": 32,
     "metadata": {},
     "output_type": "execute_result"
    }
   ],
   "source": [
    "results_metric.shape"
   ]
  },
  {
   "cell_type": "code",
   "execution_count": 60,
   "metadata": {},
   "outputs": [
    {
     "name": "stdout",
     "output_type": "stream",
     "text": [
      "(1835, 6, 4)\n",
      "[[0.16112625 0.40290645 0.33841962 0.13660309]\n",
      " [0.09300636 0.27247956 0.31389646 0.08446866]\n",
      " [0.27029973 0.41598547 0.42833787 0.19037239]\n",
      " [0.19673025 0.22924614 0.68010899 0.1729337 ]\n",
      " [0.06121708 0.24032698 0.46303361 0.10063579]\n",
      " [0.0599455  0.23960036 0.54986376 0.12352407]]\n",
      "(271, 6, 4)\n",
      "[[0.07134071 0.79704797 0.4895449  0.40467405]\n",
      " [0.06642067 0.78351784 0.45264453 0.35916359]\n",
      " [0.13776138 0.78474785 0.61623616 0.51783518]\n",
      " [0.23124231 0.70602706 0.86223862 0.59901599]\n",
      " [0.09840098 0.7896679  0.66666667 0.51783518]\n",
      " [0.0897909  0.88314883 0.94341943 0.83640836]]\n"
     ]
    }
   ],
   "source": [
    "offroad_thres = 0.5\n",
    "\n",
    "offroad_check_mean = np.mean(results_metric[:,:,0], axis=-1)\n",
    "offroad_check = np.where(offroad_check_mean < offroad_thres)[0]\n",
    "# offroad_check = np.where(\n",
    "#     (results_metric[:, -1, 0] < 0.7) & (results_metric[:, 2, 0] < 0.7)\n",
    "# )[0]\n",
    "results_metric_ = results_metric[offroad_check] \n",
    "print(results_metric_.shape)\n",
    "print(np.mean(results_metric_, axis=0))\n",
    "acc_check = np.where(results_metric_[:, -1, -1] > 0 )[0]\n",
    "# acc_check = np.where(\n",
    "#     (results_metric_[:, -1, -1] > 0.) |\n",
    "#     (results_metric_[:, -2, -1] > 0.) \n",
    "#  )[0]\n",
    "# acc_check = np.where(\n",
    "#     (results_metric_[:, -1, -2] > 0.4) &\n",
    "#     (results_metric_[:, -1, -3] > 0.4) & \n",
    "#     (results_metric_[:, 2, -2] > 0.1) & \n",
    "#     (results_metric_[:, 2, -3] > 0.1) \n",
    "#  )[0]\n",
    "results_metric__ = results_metric_[acc_check]\n",
    "print(results_metric__.shape)\n",
    "print(np.mean(results_metric__, axis=0))"
   ]
  },
  {
   "cell_type": "code",
   "execution_count": 61,
   "metadata": {},
   "outputs": [
    {
     "name": "stdout",
     "output_type": "stream",
     "text": [
      "(1835, 6, 4)\n",
      "[[0.16112625 0.40290645 0.33841962 0.13660309]\n",
      " [0.09300636 0.27247956 0.31389646 0.08446866]\n",
      " [0.27029973 0.41598547 0.42833787 0.19037239]\n",
      " [0.19673025 0.22924614 0.68010899 0.1729337 ]\n",
      " [0.06121708 0.24032698 0.46303361 0.10063579]\n",
      " [0.0599455  0.23960036 0.54986376 0.12352407]]\n",
      "(336, 6, 4)\n",
      "[[0.07242064 0.78472222 0.50297619 0.40873016]\n",
      " [0.06845238 0.75892857 0.45535714 0.35218254]\n",
      " [0.13392857 0.7609127  0.62202381 0.50694444]\n",
      " [0.25793651 0.68650794 0.86805556 0.5843254 ]\n",
      " [0.09126984 0.79265873 0.70436508 0.54960317]\n",
      " [0.08134921 0.82837302 0.83035714 0.67460317]]\n"
     ]
    }
   ],
   "source": [
    "offroad_thres = 0.5\n",
    "\n",
    "offroad_check_mean = np.mean(results_metric[:,:,0], axis=-1)\n",
    "offroad_check = np.where(offroad_check_mean < offroad_thres)[0]\n",
    "# offroad_check = np.where(\n",
    "#     (results_metric[:, -1, 0] < 0.7) & (results_metric[:, 2, 0] < 0.7)\n",
    "# )[0]\n",
    "results_metric_ = results_metric[offroad_check] \n",
    "print(results_metric_.shape)\n",
    "print(np.mean(results_metric_, axis=0))\n",
    "acc_check = np.where(\n",
    "    (results_metric_[:, -1, -1] > 0.) |\n",
    "    (results_metric_[:, -2, -1] > 0.) \n",
    " )[0]\n",
    "# acc_check = np.where(\n",
    "#     (results_metric_[:, -1, -2] > 0.4) &\n",
    "#     (results_metric_[:, -1, -3] > 0.4) & \n",
    "#     (results_metric_[:, 2, -2] > 0.1) & \n",
    "#     (results_metric_[:, 2, -3] > 0.1) \n",
    "#  )[0]\n",
    "results_metric__ = results_metric_[acc_check]\n",
    "print(results_metric__.shape)\n",
    "print(np.mean(results_metric__, axis=0))"
   ]
  },
  {
   "cell_type": "code",
   "execution_count": 82,
   "metadata": {},
   "outputs": [
    {
     "name": "stdout",
     "output_type": "stream",
     "text": [
      "(2180, 6, 4)\n",
      "[[0.2616208  0.40412844 0.34785933 0.13883792]\n",
      " [0.17996942 0.26880734 0.32568807 0.08455657]\n",
      " [0.34250765 0.41926606 0.42691131 0.18960245]\n",
      " [0.28639144 0.23379205 0.68944954 0.1766055 ]\n",
      " [0.11269113 0.23654434 0.46605505 0.10061162]\n",
      " [0.09097859 0.23730887 0.54495413 0.11957187]]\n",
      "(1355, 6, 4)\n",
      "[[0.25067651 0.47232472 0.46199262 0.19261993]\n",
      " [0.18056581 0.36309963 0.44206642 0.12447724]\n",
      " [0.31266913 0.48364084 0.53480935 0.25387454]\n",
      " [0.27921279 0.30184502 0.80418204 0.23271833]\n",
      " [0.11611316 0.34218942 0.67699877 0.15793358]\n",
      " [0.10381304 0.35473555 0.83493235 0.1896679 ]]\n"
     ]
    }
   ],
   "source": [
    "offroad_thres = 0.5\n",
    "\n",
    "# offroad_check_mean = np.mean(results_metric[:,:,0], axis=-1)\n",
    "# offroad_check = np.where(offroad_check_mean < offroad_thres)[0]\n",
    "offroad_check = np.where(\n",
    "    (results_metric[:, -1, 0] < 0.8) | (results_metric[:, 2, 0] < 0.8)\n",
    ")[0]\n",
    "results_metric_ = results_metric[offroad_check] \n",
    "print(results_metric_.shape)\n",
    "print(np.mean(results_metric_, axis=0))\n",
    "# acc_check = np.where(\n",
    "#     (results_metric_[:, -1, -1] > 0.) |\n",
    "#     (results_metric_[:, -2, -1] > 0.) \n",
    "#  )[0]\n",
    "acc_check = np.where(\n",
    "    (results_metric_[:, -1, -2] > 0.7) |\n",
    "    (results_metric_[:, -1, -3] > 0.7) \n",
    " )[0]\n",
    "results_metric__ = results_metric_[acc_check]\n",
    "print(results_metric__.shape)\n",
    "print(np.mean(results_metric__, axis=0))"
   ]
  },
  {
   "cell_type": "code",
   "execution_count": null,
   "metadata": {},
   "outputs": [],
   "source": []
  }
 ],
 "metadata": {
  "kernelspec": {
   "display_name": "vbd",
   "language": "python",
   "name": "python3"
  },
  "language_info": {
   "codemirror_mode": {
    "name": "ipython",
    "version": 3
   },
   "file_extension": ".py",
   "mimetype": "text/x-python",
   "name": "python",
   "nbconvert_exporter": "python",
   "pygments_lexer": "ipython3",
   "version": "3.10.14"
  }
 },
 "nbformat": 4,
 "nbformat_minor": 2
}
